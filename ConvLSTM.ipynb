{
 "cells": [
  {
   "cell_type": "code",
   "execution_count": 1,
   "id": "5b41c082",
   "metadata": {
    "ExecuteTime": {
     "end_time": "2022-03-22T13:34:13.397537Z",
     "start_time": "2022-03-22T13:34:02.670536Z"
    }
   },
   "outputs": [],
   "source": [
    "import numpy as np\n",
    "import tensorflow as tf\n",
    "import IPython\n",
    "import time\n",
    "import matplotlib.pyplot as plt\n",
    "import functools\n",
    "import pandas as pd\n",
    "import seaborn as sns\n",
    "from tqdm import tqdm\n",
    "from sklearn.metrics import mean_squared_error\n",
    "from jupyterthemes import jtplot\n",
    "import mitdeeplearning as mdl\n",
    "jtplot.style()"
   ]
  },
  {
   "cell_type": "code",
   "execution_count": 2,
   "id": "366c56d7",
   "metadata": {
    "ExecuteTime": {
     "end_time": "2022-03-22T13:34:17.461317Z",
     "start_time": "2022-03-22T13:34:13.397537Z"
    }
   },
   "outputs": [
    {
     "name": "stdout",
     "output_type": "stream",
     "text": [
      "[PhysicalDevice(name='/physical_device:GPU:0', device_type='GPU')]\n"
     ]
    }
   ],
   "source": [
    "physical_devices = tf.config.list_physical_devices(\"GPU\")\n",
    "print(physical_devices)"
   ]
  },
  {
   "cell_type": "code",
   "execution_count": 3,
   "id": "431a8c39",
   "metadata": {
    "ExecuteTime": {
     "end_time": "2022-03-22T13:34:34.317395Z",
     "start_time": "2022-03-22T13:34:17.461317Z"
    }
   },
   "outputs": [],
   "source": [
    "Y_train = pd.read_csv('Y_train_surge.csv')\n",
    "Y_train = Y_train.to_numpy()\n",
    "surge_input = Y_train[:,1:21].astype(np.float32)\n",
    "\n",
    "data = np.load(\"X_train_surge_new.npz\")\n",
    "slp = data[\"slp\"].astype(np.float32) #the 40 sea-level pressure (SLP) fields, encoded in images of size (41, 41)."
   ]
  },
  {
   "cell_type": "code",
   "execution_count": 4,
   "id": "866cf173",
   "metadata": {
    "ExecuteTime": {
     "end_time": "2022-03-22T13:34:35.567430Z",
     "start_time": "2022-03-22T13:34:34.317395Z"
    }
   },
   "outputs": [],
   "source": [
    "data_test = np.load(\"X_test_surge_new.npz\")\n",
    "slp_test =  data_test[\"slp\"].astype(np.float32)"
   ]
  },
  {
   "cell_type": "code",
   "execution_count": 5,
   "id": "1951b6aa",
   "metadata": {
    "ExecuteTime": {
     "end_time": "2022-03-22T13:34:39.981580Z",
     "start_time": "2022-03-22T13:34:35.567430Z"
    }
   },
   "outputs": [],
   "source": [
    "### SLP ###\n",
    "shape = slp.shape\n",
    "mean_slp = np.mean(slp)\n",
    "std_slp = np.std(slp)\n",
    "slp = np.reshape((slp-mean_slp)/std_slp,(shape[0],shape[1],shape[2],shape[3],1))\n",
    "shape = slp_test.shape\n",
    "slp_test = np.reshape((slp_test-mean_slp)/std_slp,(shape[0],shape[1],shape[2],shape[3],1))\n",
    "\n",
    "#### SURGE #####\n",
    "mean_surge = np.mean(surge_input)\n",
    "std_surge = np.std(surge_input)\n",
    "surge_input = (surge_input-mean_surge)/std_surge"
   ]
  },
  {
   "cell_type": "code",
   "execution_count": 6,
   "id": "5224fe20",
   "metadata": {
    "ExecuteTime": {
     "end_time": "2022-03-22T13:34:40.557099Z",
     "start_time": "2022-03-22T13:34:39.981580Z"
    }
   },
   "outputs": [
    {
     "name": "stdout",
     "output_type": "stream",
     "text": [
      "(5039, 40, 41, 41, 1)\n",
      "(5039, 20)\n"
     ]
    }
   ],
   "source": [
    "#np.random.seed(0)\n",
    "## indexes for train and test set\n",
    "train_set_idx = np.random.choice(slp.shape[0],int(slp.shape[0]*0.9),replace = False)\n",
    "test_set_idx = np.delete(np.arange(slp.shape[0]),train_set_idx)\n",
    "\n",
    "## TRAIN SET\n",
    "train_slp = slp[train_set_idx]\n",
    "train_surge = surge_input[train_set_idx]\n",
    "### TEST SET\n",
    "test_slp = slp[test_set_idx]\n",
    "test_surge = surge_input[test_set_idx]\n",
    "\n",
    "\n",
    "print(train_slp.shape)\n",
    "print(train_surge.shape)"
   ]
  },
  {
   "cell_type": "code",
   "execution_count": 7,
   "id": "c4fc9d3f",
   "metadata": {
    "ExecuteTime": {
     "end_time": "2022-03-22T13:34:40.577435Z",
     "start_time": "2022-03-22T13:34:40.557099Z"
    }
   },
   "outputs": [],
   "source": [
    "def custom_loss_function(y, y_recon,weight=[1,0.9,0.8,0.7,0.6,0.5,0.4,0.3,0.2,0.1]):\n",
    "    weight = tf.convert_to_tensor(weight, dtype=tf.float32)\n",
    "    substract = tf.math.square(y-y_recon)\n",
    "    loss = tf.reduce_mean(tf.math.multiply(weight,substract))\n",
    "    return loss"
   ]
  },
  {
   "cell_type": "code",
   "execution_count": 8,
   "id": "319f3a59",
   "metadata": {
    "ExecuteTime": {
     "end_time": "2022-03-22T13:34:40.597406Z",
     "start_time": "2022-03-22T13:34:40.577435Z"
    }
   },
   "outputs": [],
   "source": [
    "n_filters = 12 # base number of convolutional filters, same as standard CNN\n",
    "\n",
    "def make_standard_cnn(n_outputs=10):\n",
    "  Conv3D = functools.partial(tf.keras.layers.Conv3D, activation='relu')\n",
    "  Conv2D = functools.partial(tf.keras.layers.Conv2D, activation='relu')\n",
    "  BatchNormalization = tf.keras.layers.BatchNormalization\n",
    "  ConvLSTM2D = functools.partial(tf.keras.layers.ConvLSTM2D)\n",
    "  Maxpool = tf.keras.layers.MaxPool2D\n",
    "  Flatten = tf.keras.layers.Flatten\n",
    "  Dense = functools.partial(tf.keras.layers.Dense, activation='tanh')\n",
    "\n",
    "  model = tf.keras.Sequential([\n",
    "    ConvLSTM2D(filters=int(1*n_filters), kernel_size=(3,3)),\n",
    "    Maxpool(),\n",
    "    \n",
    "    Conv2D(filters=int(2.5*n_filters), kernel_size=3), \n",
    "    Maxpool(),\n",
    "    \n",
    "\n",
    "    \n",
    "    Flatten(),\n",
    "    Dense(80),\n",
    "    tf.keras.layers.Dropout(rate=0.25),\n",
    "    Dense(100),\n",
    "    tf.keras.layers.Dropout(rate=0.5),\n",
    "    Dense(n_outputs, activation=None), \n",
    "  ])\n",
    "  return model\n"
   ]
  },
  {
   "cell_type": "code",
   "execution_count": 9,
   "id": "fe7ad0cb",
   "metadata": {
    "ExecuteTime": {
     "end_time": "2022-03-22T13:34:44.219239Z",
     "start_time": "2022-03-22T13:34:40.602455Z"
    }
   },
   "outputs": [
    {
     "name": "stdout",
     "output_type": "stream",
     "text": [
      "Model: \"sequential\"\n",
      "_________________________________________________________________\n",
      " Layer (type)                Output Shape              Param #   \n",
      "=================================================================\n",
      " conv_lstm2d (ConvLSTM2D)    (5039, 39, 39, 24)        21696     \n",
      "                                                                 \n",
      " max_pooling2d (MaxPooling2D  (5039, 19, 19, 24)       0         \n",
      " )                                                               \n",
      "                                                                 \n",
      " conv2d (Conv2D)             (5039, 17, 17, 36)        7812      \n",
      "                                                                 \n",
      " max_pooling2d_1 (MaxPooling  (5039, 8, 8, 36)         0         \n",
      " 2D)                                                             \n",
      "                                                                 \n",
      " flatten (Flatten)           (5039, 2304)              0         \n",
      "                                                                 \n",
      " dense (Dense)               (5039, 80)                184400    \n",
      "                                                                 \n",
      " dropout (Dropout)           (5039, 80)                0         \n",
      "                                                                 \n",
      " dense_1 (Dense)             (5039, 100)               8100      \n",
      "                                                                 \n",
      " dropout_1 (Dropout)         (5039, 100)               0         \n",
      "                                                                 \n",
      " dense_2 (Dense)             (5039, 10)                1010      \n",
      "                                                                 \n",
      "=================================================================\n",
      "Total params: 223,018\n",
      "Trainable params: 223,018\n",
      "Non-trainable params: 0\n",
      "_________________________________________________________________\n"
     ]
    }
   ],
   "source": [
    "model = make_standard_cnn()\n",
    "model.build(input_shape = train_slp.shape)\n",
    "model.compile(optimizer = tf.keras.optimizers.SGD(learning_rate=1e-2), \n",
    "              loss='MeanSquaredError',\n",
    "              metrics=['RootMeanSquaredError'\n",
    "                      ])\n",
    "model.summary()"
   ]
  },
  {
   "cell_type": "code",
   "execution_count": 34,
   "id": "cba8cd51",
   "metadata": {
    "ExecuteTime": {
     "end_time": "2022-03-22T14:02:27.909119Z",
     "start_time": "2022-03-22T14:02:27.877598Z"
    }
   },
   "outputs": [],
   "source": [
    "class custom_CNN(tf.keras.Model):\n",
    "    def __init__(self, n_output=10):\n",
    "        super(custom_CNN, self).__init__()\n",
    "        self.n_output= n_output\n",
    "        self.weight = [1,0.9,0.8,0.7,0.6,0.5,0.4,0.3,0.2,0.1]\n",
    "        self.cnn = make_standard_cnn()\n",
    "\n",
    "  # The call function will be used to pass inputs x through the core CNN\n",
    "    def call(self, x): \n",
    "        reconstruction = self.cnn(x)\n",
    "        return reconstruction\n",
    "\n",
    "  # Predict face or not face logit for given input x\n",
    "    def evaluate(self, x_eval,y_eval):\n",
    "        y_pred = self.cnn(x_eval)\n",
    "        weighted_mse = custom_loss_function(y_pred, y_eval,self.weight)\n",
    "        #print(f'Evaluation Loss : {weighted_mse}')\n",
    "        return weighted_mse\n",
    "    \n",
    "    def evaluate_one_by_one(self, x_eval,y_eval,batch_size):\n",
    "        mse_total = []\n",
    "        batch_size = batch_size*4\n",
    "        for i in tqdm(range(x_eval.shape[0]// batch_size)):\n",
    "            end_index_eval = min(x_eval.shape[0],(i+1)*batch_size)\n",
    "            batch = np.arange(i*batch_size,end_index_eval)\n",
    "            mse_total.append(self.evaluate(x_eval[batch],y_eval[batch]))        \n",
    "        return sum(mse_total)/len(mse_total)"
   ]
  },
  {
   "cell_type": "markdown",
   "id": "572e9e17",
   "metadata": {
    "ExecuteTime": {
     "end_time": "2022-03-20T17:15:34.353721Z",
     "start_time": "2022-03-20T17:15:34.322387Z"
    }
   },
   "source": [
    "# To define the training operation, we will use tf.function which is a powerful tool \n",
    "#   that lets us turn a Python function into a TensorFlow computation graph.\n",
    "def train_step(x, y,cnn,optimizer):\n",
    "    with tf.GradientTape() as tape:\n",
    "        y_recon = cnn(x)\n",
    "        loss = custom_loss_function(y, y_recon)\n",
    "    grads = tape.gradient(loss, cnn.trainable_variables)\n",
    "\n",
    "    optimizer.apply_gradients(zip(grads, cnn.trainable_variables))\n",
    "    return loss,y_recon"
   ]
  },
  {
   "cell_type": "code",
   "execution_count": 39,
   "id": "8ba53093",
   "metadata": {
    "ExecuteTime": {
     "end_time": "2022-03-22T15:07:22.909700Z",
     "start_time": "2022-03-22T14:08:57.166379Z"
    },
    "scrolled": true
   },
   "outputs": [
    {
     "name": "stdout",
     "output_type": "stream",
     "text": [
      "Starting epoch 25/25 and loss1 : 0.33486899733543396 and eval_loss1 : 0             \n"
     ]
    },
    {
     "name": "stderr",
     "output_type": "stream",
     "text": [
      "100%|████████████████████████████████████████████████████████████████████████████████| 314/314 [02:13<00:00,  2.35it/s]\n",
      "100%|████████████████████████████████████████████████████████████████████████████████████| 8/8 [00:04<00:00,  1.73it/s]\n"
     ]
    },
    {
     "ename": "ValueError",
     "evalue": "x and y must have same first dimension, but have shapes (12,) and (13,)",
     "output_type": "error",
     "traceback": [
      "\u001b[1;31m---------------------------------------------------------------------------\u001b[0m",
      "\u001b[1;31mValueError\u001b[0m                                Traceback (most recent call last)",
      "\u001b[1;32m~\\AppData\\Local\\Temp/ipykernel_1248/498127564.py\u001b[0m in \u001b[0;36m<module>\u001b[1;34m\u001b[0m\n\u001b[0;32m     57\u001b[0m \u001b[0mplt\u001b[0m\u001b[1;33m.\u001b[0m\u001b[0mplot\u001b[0m\u001b[1;33m(\u001b[0m\u001b[0mnp\u001b[0m\u001b[1;33m.\u001b[0m\u001b[0mlinspace\u001b[0m\u001b[1;33m(\u001b[0m\u001b[1;36m1\u001b[0m\u001b[1;33m,\u001b[0m\u001b[0mnum_epochs1\u001b[0m\u001b[1;33m,\u001b[0m\u001b[0mnum_epochs1\u001b[0m\u001b[1;33m)\u001b[0m\u001b[1;33m,\u001b[0m\u001b[0mloss_history1\u001b[0m\u001b[1;33m)\u001b[0m\u001b[1;33m\u001b[0m\u001b[1;33m\u001b[0m\u001b[0m\n\u001b[0;32m     58\u001b[0m \u001b[0mplt\u001b[0m\u001b[1;33m.\u001b[0m\u001b[0msubplot\u001b[0m\u001b[1;33m(\u001b[0m\u001b[1;36m1\u001b[0m\u001b[1;33m,\u001b[0m\u001b[1;36m2\u001b[0m\u001b[1;33m,\u001b[0m\u001b[1;36m2\u001b[0m\u001b[1;33m)\u001b[0m\u001b[1;33m\u001b[0m\u001b[1;33m\u001b[0m\u001b[0m\n\u001b[1;32m---> 59\u001b[1;33m \u001b[0mplt\u001b[0m\u001b[1;33m.\u001b[0m\u001b[0mplot\u001b[0m\u001b[1;33m(\u001b[0m\u001b[0mnp\u001b[0m\u001b[1;33m.\u001b[0m\u001b[0mlinspace\u001b[0m\u001b[1;33m(\u001b[0m\u001b[1;36m1\u001b[0m\u001b[1;33m,\u001b[0m\u001b[0mnum_epochs1\u001b[0m\u001b[1;33m//\u001b[0m\u001b[1;36m2\u001b[0m\u001b[1;33m,\u001b[0m\u001b[0mnum_epochs1\u001b[0m\u001b[1;33m//\u001b[0m\u001b[1;36m2\u001b[0m\u001b[1;33m)\u001b[0m\u001b[1;33m,\u001b[0m\u001b[0meval_loss_hisotry1\u001b[0m\u001b[1;33m)\u001b[0m\u001b[1;33m\u001b[0m\u001b[1;33m\u001b[0m\u001b[0m\n\u001b[0m",
      "\u001b[1;32mC:\\ProgramData\\Anaconda3\\lib\\site-packages\\matplotlib\\pyplot.py\u001b[0m in \u001b[0;36mplot\u001b[1;34m(scalex, scaley, data, *args, **kwargs)\u001b[0m\n\u001b[0;32m   3017\u001b[0m \u001b[1;33m@\u001b[0m\u001b[0m_copy_docstring_and_deprecators\u001b[0m\u001b[1;33m(\u001b[0m\u001b[0mAxes\u001b[0m\u001b[1;33m.\u001b[0m\u001b[0mplot\u001b[0m\u001b[1;33m)\u001b[0m\u001b[1;33m\u001b[0m\u001b[1;33m\u001b[0m\u001b[0m\n\u001b[0;32m   3018\u001b[0m \u001b[1;32mdef\u001b[0m \u001b[0mplot\u001b[0m\u001b[1;33m(\u001b[0m\u001b[1;33m*\u001b[0m\u001b[0margs\u001b[0m\u001b[1;33m,\u001b[0m \u001b[0mscalex\u001b[0m\u001b[1;33m=\u001b[0m\u001b[1;32mTrue\u001b[0m\u001b[1;33m,\u001b[0m \u001b[0mscaley\u001b[0m\u001b[1;33m=\u001b[0m\u001b[1;32mTrue\u001b[0m\u001b[1;33m,\u001b[0m \u001b[0mdata\u001b[0m\u001b[1;33m=\u001b[0m\u001b[1;32mNone\u001b[0m\u001b[1;33m,\u001b[0m \u001b[1;33m**\u001b[0m\u001b[0mkwargs\u001b[0m\u001b[1;33m)\u001b[0m\u001b[1;33m:\u001b[0m\u001b[1;33m\u001b[0m\u001b[1;33m\u001b[0m\u001b[0m\n\u001b[1;32m-> 3019\u001b[1;33m     return gca().plot(\n\u001b[0m\u001b[0;32m   3020\u001b[0m         \u001b[1;33m*\u001b[0m\u001b[0margs\u001b[0m\u001b[1;33m,\u001b[0m \u001b[0mscalex\u001b[0m\u001b[1;33m=\u001b[0m\u001b[0mscalex\u001b[0m\u001b[1;33m,\u001b[0m \u001b[0mscaley\u001b[0m\u001b[1;33m=\u001b[0m\u001b[0mscaley\u001b[0m\u001b[1;33m,\u001b[0m\u001b[1;33m\u001b[0m\u001b[1;33m\u001b[0m\u001b[0m\n\u001b[0;32m   3021\u001b[0m         **({\"data\": data} if data is not None else {}), **kwargs)\n",
      "\u001b[1;32mC:\\ProgramData\\Anaconda3\\lib\\site-packages\\matplotlib\\axes\\_axes.py\u001b[0m in \u001b[0;36mplot\u001b[1;34m(self, scalex, scaley, data, *args, **kwargs)\u001b[0m\n\u001b[0;32m   1603\u001b[0m         \"\"\"\n\u001b[0;32m   1604\u001b[0m         \u001b[0mkwargs\u001b[0m \u001b[1;33m=\u001b[0m \u001b[0mcbook\u001b[0m\u001b[1;33m.\u001b[0m\u001b[0mnormalize_kwargs\u001b[0m\u001b[1;33m(\u001b[0m\u001b[0mkwargs\u001b[0m\u001b[1;33m,\u001b[0m \u001b[0mmlines\u001b[0m\u001b[1;33m.\u001b[0m\u001b[0mLine2D\u001b[0m\u001b[1;33m)\u001b[0m\u001b[1;33m\u001b[0m\u001b[1;33m\u001b[0m\u001b[0m\n\u001b[1;32m-> 1605\u001b[1;33m         \u001b[0mlines\u001b[0m \u001b[1;33m=\u001b[0m \u001b[1;33m[\u001b[0m\u001b[1;33m*\u001b[0m\u001b[0mself\u001b[0m\u001b[1;33m.\u001b[0m\u001b[0m_get_lines\u001b[0m\u001b[1;33m(\u001b[0m\u001b[1;33m*\u001b[0m\u001b[0margs\u001b[0m\u001b[1;33m,\u001b[0m \u001b[0mdata\u001b[0m\u001b[1;33m=\u001b[0m\u001b[0mdata\u001b[0m\u001b[1;33m,\u001b[0m \u001b[1;33m**\u001b[0m\u001b[0mkwargs\u001b[0m\u001b[1;33m)\u001b[0m\u001b[1;33m]\u001b[0m\u001b[1;33m\u001b[0m\u001b[1;33m\u001b[0m\u001b[0m\n\u001b[0m\u001b[0;32m   1606\u001b[0m         \u001b[1;32mfor\u001b[0m \u001b[0mline\u001b[0m \u001b[1;32min\u001b[0m \u001b[0mlines\u001b[0m\u001b[1;33m:\u001b[0m\u001b[1;33m\u001b[0m\u001b[1;33m\u001b[0m\u001b[0m\n\u001b[0;32m   1607\u001b[0m             \u001b[0mself\u001b[0m\u001b[1;33m.\u001b[0m\u001b[0madd_line\u001b[0m\u001b[1;33m(\u001b[0m\u001b[0mline\u001b[0m\u001b[1;33m)\u001b[0m\u001b[1;33m\u001b[0m\u001b[1;33m\u001b[0m\u001b[0m\n",
      "\u001b[1;32mC:\\ProgramData\\Anaconda3\\lib\\site-packages\\matplotlib\\axes\\_base.py\u001b[0m in \u001b[0;36m__call__\u001b[1;34m(self, data, *args, **kwargs)\u001b[0m\n\u001b[0;32m    313\u001b[0m                 \u001b[0mthis\u001b[0m \u001b[1;33m+=\u001b[0m \u001b[0margs\u001b[0m\u001b[1;33m[\u001b[0m\u001b[1;36m0\u001b[0m\u001b[1;33m]\u001b[0m\u001b[1;33m,\u001b[0m\u001b[1;33m\u001b[0m\u001b[1;33m\u001b[0m\u001b[0m\n\u001b[0;32m    314\u001b[0m                 \u001b[0margs\u001b[0m \u001b[1;33m=\u001b[0m \u001b[0margs\u001b[0m\u001b[1;33m[\u001b[0m\u001b[1;36m1\u001b[0m\u001b[1;33m:\u001b[0m\u001b[1;33m]\u001b[0m\u001b[1;33m\u001b[0m\u001b[1;33m\u001b[0m\u001b[0m\n\u001b[1;32m--> 315\u001b[1;33m             \u001b[1;32myield\u001b[0m \u001b[1;32mfrom\u001b[0m \u001b[0mself\u001b[0m\u001b[1;33m.\u001b[0m\u001b[0m_plot_args\u001b[0m\u001b[1;33m(\u001b[0m\u001b[0mthis\u001b[0m\u001b[1;33m,\u001b[0m \u001b[0mkwargs\u001b[0m\u001b[1;33m)\u001b[0m\u001b[1;33m\u001b[0m\u001b[1;33m\u001b[0m\u001b[0m\n\u001b[0m\u001b[0;32m    316\u001b[0m \u001b[1;33m\u001b[0m\u001b[0m\n\u001b[0;32m    317\u001b[0m     \u001b[1;32mdef\u001b[0m \u001b[0mget_next_color\u001b[0m\u001b[1;33m(\u001b[0m\u001b[0mself\u001b[0m\u001b[1;33m)\u001b[0m\u001b[1;33m:\u001b[0m\u001b[1;33m\u001b[0m\u001b[1;33m\u001b[0m\u001b[0m\n",
      "\u001b[1;32mC:\\ProgramData\\Anaconda3\\lib\\site-packages\\matplotlib\\axes\\_base.py\u001b[0m in \u001b[0;36m_plot_args\u001b[1;34m(self, tup, kwargs, return_kwargs)\u001b[0m\n\u001b[0;32m    499\u001b[0m \u001b[1;33m\u001b[0m\u001b[0m\n\u001b[0;32m    500\u001b[0m         \u001b[1;32mif\u001b[0m \u001b[0mx\u001b[0m\u001b[1;33m.\u001b[0m\u001b[0mshape\u001b[0m\u001b[1;33m[\u001b[0m\u001b[1;36m0\u001b[0m\u001b[1;33m]\u001b[0m \u001b[1;33m!=\u001b[0m \u001b[0my\u001b[0m\u001b[1;33m.\u001b[0m\u001b[0mshape\u001b[0m\u001b[1;33m[\u001b[0m\u001b[1;36m0\u001b[0m\u001b[1;33m]\u001b[0m\u001b[1;33m:\u001b[0m\u001b[1;33m\u001b[0m\u001b[1;33m\u001b[0m\u001b[0m\n\u001b[1;32m--> 501\u001b[1;33m             raise ValueError(f\"x and y must have same first dimension, but \"\n\u001b[0m\u001b[0;32m    502\u001b[0m                              f\"have shapes {x.shape} and {y.shape}\")\n\u001b[0;32m    503\u001b[0m         \u001b[1;32mif\u001b[0m \u001b[0mx\u001b[0m\u001b[1;33m.\u001b[0m\u001b[0mndim\u001b[0m \u001b[1;33m>\u001b[0m \u001b[1;36m2\u001b[0m \u001b[1;32mor\u001b[0m \u001b[0my\u001b[0m\u001b[1;33m.\u001b[0m\u001b[0mndim\u001b[0m \u001b[1;33m>\u001b[0m \u001b[1;36m2\u001b[0m\u001b[1;33m:\u001b[0m\u001b[1;33m\u001b[0m\u001b[1;33m\u001b[0m\u001b[0m\n",
      "\u001b[1;31mValueError\u001b[0m: x and y must have same first dimension, but have shapes (12,) and (13,)"
     ]
    },
    {
     "data": {
      "image/png": "[encoded data removed]",
      "text/plain": [
       "<Figure size 460.8x403.2 with 2 Axes>"
      ]
     },
     "metadata": {},
     "output_type": "display_data"
    }
   ],
   "source": [
    "# Hyperparameters\n",
    "batch_size = 16\n",
    "learning_rate1 = 0.8e-3\n",
    "num_epochs1 = 70\n",
    "optimizer1 = tf.keras.optimizers.SGD(learning_rate1)\n",
    "\n",
    "#data saving\n",
    "loss_history1 = []\n",
    "eval_loss_hisotry1 = []\n",
    "total_loss1 = 0\n",
    "\n",
    "# To define the training operation, we will use tf.function which is a powerful tool \n",
    "#   that lets us turn a Python function into a TensorFlow computation graph.\n",
    "@tf.function\n",
    "def train_step1(x, y,cnn):\n",
    "    with tf.GradientTape() as tape:\n",
    "        # Feed input x into cnn. Note that this is using the CNN call function!\n",
    "        y_recon = cnn(x)\n",
    "        loss = custom_loss_function(y, y_recon)\n",
    "    grads = tape.gradient(loss, cnn.trainable_variables)\n",
    "    optimizer1.apply_gradients(zip(grads, cnn.trainable_variables))\n",
    "    return loss,y_recon\n",
    "\n",
    "total_eval_loss1 = 0    \n",
    "cnn1 = custom_CNN()\n",
    "if hasattr(tqdm, '_instances'): tqdm._instances.clear() # clear if it exists\n",
    "        # For the first TOWN\n",
    "for i in range(num_epochs1):\n",
    "    #learning rate decay\n",
    "    \"\"\"if num_epochs1 > 13 : \n",
    "        cosine_decay = 0.7 * (1 + tf.math.cos(np.pi * 4 / 13))\n",
    "        learning_rate1 = learning_rate1*cosine_decay\n",
    "        optimizer1 = tf.keras.optimizers.SGD(learning_rate1)\"\"\"\n",
    "\n",
    "    IPython.display.clear_output(wait=True)\n",
    "    print(\"Starting epoch {}/{} and loss1 : {} and eval_loss1 : {} \\\n",
    "            \".format(i+1, num_epochs1,total_loss1,total_eval_loss1))\n",
    "    # get a batch of training data and compute the training step\n",
    "    total_loss1 = 0\n",
    "    \n",
    "    for j in tqdm(range(train_slp.shape[0] // batch_size)):\n",
    "        end_index = min(train_slp.shape[0]-1,(j+1)*batch_size)\n",
    "            # load a batch of data\n",
    "        (x, y) = (train_slp[j*batch_size:end_index],train_surge[j*batch_size:end_index,:10])\n",
    "        # loss optimization\n",
    "        loss1,y_recon = train_step1(x, y,cnn1)\n",
    "        total_loss1 += loss1 \n",
    "    \n",
    "    if i %2 == 0:\n",
    "        total_eval_loss1 = 0\n",
    "        total_eval_loss1 = cnn1.evaluate_one_by_one(test_slp,test_surge[:,:10],batch_size)\n",
    "        eval_loss_hisotry1.append(total_eval_loss1)\n",
    "    total_loss1 = total_loss1/(train_slp.shape[0] // batch_size)\n",
    "    loss_history1.append(total_loss1)\n",
    "                     \n",
    "#PLOT\n",
    "plt.subplot(1,2,1)\n",
    "plt.plot(np.linspace(1,num_epochs1,num_epochs1),loss_history1)\n",
    "plt.subplot(1,2,2)\n",
    "plt.plot(np.linspace(1,len(eval_loss_history1),len(eval_loss_history1)),eval_loss_history1)"
   ]
  },
  {
   "cell_type": "code",
   "execution_count": 51,
   "id": "43966d03",
   "metadata": {
    "ExecuteTime": {
     "end_time": "2022-03-22T16:15:10.607941Z",
     "start_time": "2022-03-22T16:15:10.593832Z"
    }
   },
   "outputs": [
    {
     "data": {
      "text/plain": [
       "(5039, 10)"
      ]
     },
     "execution_count": 51,
     "metadata": {},
     "output_type": "execute_result"
    }
   ],
   "source": [
    "surge_train2=np.copy(train_surge[:,10:])\n",
    "surge_train2.shape"
   ]
  },
  {
   "cell_type": "code",
   "execution_count": 46,
   "id": "01bf4467",
   "metadata": {
    "ExecuteTime": {
     "end_time": "2022-03-22T16:13:19.575101Z",
     "start_time": "2022-03-22T15:09:51.309065Z"
    }
   },
   "outputs": [
    {
     "name": "stdout",
     "output_type": "stream",
     "text": [
      "Starting epoch 29/50 and loss2 : 0.30752265453338623 and eval_loss2 : 0.39946284890174866     \n"
     ]
    },
    {
     "name": "stderr",
     "output_type": "stream",
     "text": [
      " 26%|████████████████████▉                                                            | 81/314 [00:35<01:41,  2.29it/s]\n"
     ]
    },
    {
     "ename": "KeyboardInterrupt",
     "evalue": "",
     "output_type": "error",
     "traceback": [
      "\u001b[1;31m---------------------------------------------------------------------------\u001b[0m",
      "\u001b[1;31mKeyboardInterrupt\u001b[0m                         Traceback (most recent call last)",
      "\u001b[1;32m~\\AppData\\Local\\Temp/ipykernel_1248/3381736970.py\u001b[0m in \u001b[0;36m<module>\u001b[1;34m\u001b[0m\n\u001b[0;32m     37\u001b[0m         \u001b[1;33m(\u001b[0m\u001b[0mx\u001b[0m\u001b[1;33m,\u001b[0m \u001b[0my\u001b[0m\u001b[1;33m)\u001b[0m \u001b[1;33m=\u001b[0m \u001b[1;33m(\u001b[0m\u001b[0mtrain_slp\u001b[0m\u001b[1;33m[\u001b[0m\u001b[0mj\u001b[0m\u001b[1;33m:\u001b[0m\u001b[0mend_index\u001b[0m\u001b[1;33m]\u001b[0m\u001b[1;33m,\u001b[0m\u001b[0mtrain_surge\u001b[0m\u001b[1;33m[\u001b[0m\u001b[0mj\u001b[0m\u001b[1;33m:\u001b[0m\u001b[0mend_index\u001b[0m\u001b[1;33m,\u001b[0m\u001b[1;36m10\u001b[0m\u001b[1;33m:\u001b[0m\u001b[1;33m]\u001b[0m\u001b[1;33m)\u001b[0m\u001b[1;33m\u001b[0m\u001b[1;33m\u001b[0m\u001b[0m\n\u001b[0;32m     38\u001b[0m         \u001b[1;31m# loss optimization\u001b[0m\u001b[1;33m\u001b[0m\u001b[1;33m\u001b[0m\u001b[0m\n\u001b[1;32m---> 39\u001b[1;33m         \u001b[0mloss2\u001b[0m\u001b[1;33m,\u001b[0m\u001b[0my_recon\u001b[0m \u001b[1;33m=\u001b[0m \u001b[0mtrain_step2\u001b[0m\u001b[1;33m(\u001b[0m\u001b[0mx\u001b[0m\u001b[1;33m,\u001b[0m \u001b[0my\u001b[0m\u001b[1;33m,\u001b[0m\u001b[0mcnn2\u001b[0m\u001b[1;33m)\u001b[0m\u001b[1;33m\u001b[0m\u001b[1;33m\u001b[0m\u001b[0m\n\u001b[0m\u001b[0;32m     40\u001b[0m         \u001b[0mtotal_loss2\u001b[0m \u001b[1;33m+=\u001b[0m \u001b[0mloss2\u001b[0m\u001b[1;33m\u001b[0m\u001b[1;33m\u001b[0m\u001b[0m\n\u001b[0;32m     41\u001b[0m \u001b[1;33m\u001b[0m\u001b[0m\n",
      "\u001b[1;32mC:\\ProgramData\\Anaconda3\\lib\\site-packages\\tensorflow\\python\\util\\traceback_utils.py\u001b[0m in \u001b[0;36merror_handler\u001b[1;34m(*args, **kwargs)\u001b[0m\n\u001b[0;32m    148\u001b[0m     \u001b[0mfiltered_tb\u001b[0m \u001b[1;33m=\u001b[0m \u001b[1;32mNone\u001b[0m\u001b[1;33m\u001b[0m\u001b[1;33m\u001b[0m\u001b[0m\n\u001b[0;32m    149\u001b[0m     \u001b[1;32mtry\u001b[0m\u001b[1;33m:\u001b[0m\u001b[1;33m\u001b[0m\u001b[1;33m\u001b[0m\u001b[0m\n\u001b[1;32m--> 150\u001b[1;33m       \u001b[1;32mreturn\u001b[0m \u001b[0mfn\u001b[0m\u001b[1;33m(\u001b[0m\u001b[1;33m*\u001b[0m\u001b[0margs\u001b[0m\u001b[1;33m,\u001b[0m \u001b[1;33m**\u001b[0m\u001b[0mkwargs\u001b[0m\u001b[1;33m)\u001b[0m\u001b[1;33m\u001b[0m\u001b[1;33m\u001b[0m\u001b[0m\n\u001b[0m\u001b[0;32m    151\u001b[0m     \u001b[1;32mexcept\u001b[0m \u001b[0mException\u001b[0m \u001b[1;32mas\u001b[0m \u001b[0me\u001b[0m\u001b[1;33m:\u001b[0m\u001b[1;33m\u001b[0m\u001b[1;33m\u001b[0m\u001b[0m\n\u001b[0;32m    152\u001b[0m       \u001b[0mfiltered_tb\u001b[0m \u001b[1;33m=\u001b[0m \u001b[0m_process_traceback_frames\u001b[0m\u001b[1;33m(\u001b[0m\u001b[0me\u001b[0m\u001b[1;33m.\u001b[0m\u001b[0m__traceback__\u001b[0m\u001b[1;33m)\u001b[0m\u001b[1;33m\u001b[0m\u001b[1;33m\u001b[0m\u001b[0m\n",
      "\u001b[1;32mC:\\ProgramData\\Anaconda3\\lib\\site-packages\\tensorflow\\python\\eager\\def_function.py\u001b[0m in \u001b[0;36m__call__\u001b[1;34m(self, *args, **kwds)\u001b[0m\n\u001b[0;32m    913\u001b[0m \u001b[1;33m\u001b[0m\u001b[0m\n\u001b[0;32m    914\u001b[0m       \u001b[1;32mwith\u001b[0m \u001b[0mOptionalXlaContext\u001b[0m\u001b[1;33m(\u001b[0m\u001b[0mself\u001b[0m\u001b[1;33m.\u001b[0m\u001b[0m_jit_compile\u001b[0m\u001b[1;33m)\u001b[0m\u001b[1;33m:\u001b[0m\u001b[1;33m\u001b[0m\u001b[1;33m\u001b[0m\u001b[0m\n\u001b[1;32m--> 915\u001b[1;33m         \u001b[0mresult\u001b[0m \u001b[1;33m=\u001b[0m \u001b[0mself\u001b[0m\u001b[1;33m.\u001b[0m\u001b[0m_call\u001b[0m\u001b[1;33m(\u001b[0m\u001b[1;33m*\u001b[0m\u001b[0margs\u001b[0m\u001b[1;33m,\u001b[0m \u001b[1;33m**\u001b[0m\u001b[0mkwds\u001b[0m\u001b[1;33m)\u001b[0m\u001b[1;33m\u001b[0m\u001b[1;33m\u001b[0m\u001b[0m\n\u001b[0m\u001b[0;32m    916\u001b[0m \u001b[1;33m\u001b[0m\u001b[0m\n\u001b[0;32m    917\u001b[0m       \u001b[0mnew_tracing_count\u001b[0m \u001b[1;33m=\u001b[0m \u001b[0mself\u001b[0m\u001b[1;33m.\u001b[0m\u001b[0mexperimental_get_tracing_count\u001b[0m\u001b[1;33m(\u001b[0m\u001b[1;33m)\u001b[0m\u001b[1;33m\u001b[0m\u001b[1;33m\u001b[0m\u001b[0m\n",
      "\u001b[1;32mC:\\ProgramData\\Anaconda3\\lib\\site-packages\\tensorflow\\python\\eager\\def_function.py\u001b[0m in \u001b[0;36m_call\u001b[1;34m(self, *args, **kwds)\u001b[0m\n\u001b[0;32m    945\u001b[0m       \u001b[1;31m# In this case we have created variables on the first call, so we run the\u001b[0m\u001b[1;33m\u001b[0m\u001b[1;33m\u001b[0m\u001b[0m\n\u001b[0;32m    946\u001b[0m       \u001b[1;31m# defunned version which is guaranteed to never create variables.\u001b[0m\u001b[1;33m\u001b[0m\u001b[1;33m\u001b[0m\u001b[0m\n\u001b[1;32m--> 947\u001b[1;33m       \u001b[1;32mreturn\u001b[0m \u001b[0mself\u001b[0m\u001b[1;33m.\u001b[0m\u001b[0m_stateless_fn\u001b[0m\u001b[1;33m(\u001b[0m\u001b[1;33m*\u001b[0m\u001b[0margs\u001b[0m\u001b[1;33m,\u001b[0m \u001b[1;33m**\u001b[0m\u001b[0mkwds\u001b[0m\u001b[1;33m)\u001b[0m  \u001b[1;31m# pylint: disable=not-callable\u001b[0m\u001b[1;33m\u001b[0m\u001b[1;33m\u001b[0m\u001b[0m\n\u001b[0m\u001b[0;32m    948\u001b[0m     \u001b[1;32melif\u001b[0m \u001b[0mself\u001b[0m\u001b[1;33m.\u001b[0m\u001b[0m_stateful_fn\u001b[0m \u001b[1;32mis\u001b[0m \u001b[1;32mnot\u001b[0m \u001b[1;32mNone\u001b[0m\u001b[1;33m:\u001b[0m\u001b[1;33m\u001b[0m\u001b[1;33m\u001b[0m\u001b[0m\n\u001b[0;32m    949\u001b[0m       \u001b[1;31m# Release the lock early so that multiple threads can perform the call\u001b[0m\u001b[1;33m\u001b[0m\u001b[1;33m\u001b[0m\u001b[0m\n",
      "\u001b[1;32mC:\\ProgramData\\Anaconda3\\lib\\site-packages\\tensorflow\\python\\eager\\function.py\u001b[0m in \u001b[0;36m__call__\u001b[1;34m(self, *args, **kwargs)\u001b[0m\n\u001b[0;32m   2954\u001b[0m       (graph_function,\n\u001b[0;32m   2955\u001b[0m        filtered_flat_args) = self._maybe_define_function(args, kwargs)\n\u001b[1;32m-> 2956\u001b[1;33m     return graph_function._call_flat(\n\u001b[0m\u001b[0;32m   2957\u001b[0m         filtered_flat_args, captured_inputs=graph_function.captured_inputs)  # pylint: disable=protected-access\n\u001b[0;32m   2958\u001b[0m \u001b[1;33m\u001b[0m\u001b[0m\n",
      "\u001b[1;32mC:\\ProgramData\\Anaconda3\\lib\\site-packages\\tensorflow\\python\\eager\\function.py\u001b[0m in \u001b[0;36m_call_flat\u001b[1;34m(self, args, captured_inputs, cancellation_manager)\u001b[0m\n\u001b[0;32m   1851\u001b[0m         and executing_eagerly):\n\u001b[0;32m   1852\u001b[0m       \u001b[1;31m# No tape is watching; skip to running the function.\u001b[0m\u001b[1;33m\u001b[0m\u001b[1;33m\u001b[0m\u001b[0m\n\u001b[1;32m-> 1853\u001b[1;33m       return self._build_call_outputs(self._inference_function.call(\n\u001b[0m\u001b[0;32m   1854\u001b[0m           ctx, args, cancellation_manager=cancellation_manager))\n\u001b[0;32m   1855\u001b[0m     forward_backward = self._select_forward_and_backward_functions(\n",
      "\u001b[1;32mC:\\ProgramData\\Anaconda3\\lib\\site-packages\\tensorflow\\python\\eager\\function.py\u001b[0m in \u001b[0;36mcall\u001b[1;34m(self, ctx, args, cancellation_manager)\u001b[0m\n\u001b[0;32m    497\u001b[0m       \u001b[1;32mwith\u001b[0m \u001b[0m_InterpolateFunctionError\u001b[0m\u001b[1;33m(\u001b[0m\u001b[0mself\u001b[0m\u001b[1;33m)\u001b[0m\u001b[1;33m:\u001b[0m\u001b[1;33m\u001b[0m\u001b[1;33m\u001b[0m\u001b[0m\n\u001b[0;32m    498\u001b[0m         \u001b[1;32mif\u001b[0m \u001b[0mcancellation_manager\u001b[0m \u001b[1;32mis\u001b[0m \u001b[1;32mNone\u001b[0m\u001b[1;33m:\u001b[0m\u001b[1;33m\u001b[0m\u001b[1;33m\u001b[0m\u001b[0m\n\u001b[1;32m--> 499\u001b[1;33m           outputs = execute.execute(\n\u001b[0m\u001b[0;32m    500\u001b[0m               \u001b[0mstr\u001b[0m\u001b[1;33m(\u001b[0m\u001b[0mself\u001b[0m\u001b[1;33m.\u001b[0m\u001b[0msignature\u001b[0m\u001b[1;33m.\u001b[0m\u001b[0mname\u001b[0m\u001b[1;33m)\u001b[0m\u001b[1;33m,\u001b[0m\u001b[1;33m\u001b[0m\u001b[1;33m\u001b[0m\u001b[0m\n\u001b[0;32m    501\u001b[0m               \u001b[0mnum_outputs\u001b[0m\u001b[1;33m=\u001b[0m\u001b[0mself\u001b[0m\u001b[1;33m.\u001b[0m\u001b[0m_num_outputs\u001b[0m\u001b[1;33m,\u001b[0m\u001b[1;33m\u001b[0m\u001b[1;33m\u001b[0m\u001b[0m\n",
      "\u001b[1;32mC:\\ProgramData\\Anaconda3\\lib\\site-packages\\tensorflow\\python\\eager\\execute.py\u001b[0m in \u001b[0;36mquick_execute\u001b[1;34m(op_name, num_outputs, inputs, attrs, ctx, name)\u001b[0m\n\u001b[0;32m     52\u001b[0m   \u001b[1;32mtry\u001b[0m\u001b[1;33m:\u001b[0m\u001b[1;33m\u001b[0m\u001b[1;33m\u001b[0m\u001b[0m\n\u001b[0;32m     53\u001b[0m     \u001b[0mctx\u001b[0m\u001b[1;33m.\u001b[0m\u001b[0mensure_initialized\u001b[0m\u001b[1;33m(\u001b[0m\u001b[1;33m)\u001b[0m\u001b[1;33m\u001b[0m\u001b[1;33m\u001b[0m\u001b[0m\n\u001b[1;32m---> 54\u001b[1;33m     tensors = pywrap_tfe.TFE_Py_Execute(ctx._handle, device_name, op_name,\n\u001b[0m\u001b[0;32m     55\u001b[0m                                         inputs, attrs, num_outputs)\n\u001b[0;32m     56\u001b[0m   \u001b[1;32mexcept\u001b[0m \u001b[0mcore\u001b[0m\u001b[1;33m.\u001b[0m\u001b[0m_NotOkStatusException\u001b[0m \u001b[1;32mas\u001b[0m \u001b[0me\u001b[0m\u001b[1;33m:\u001b[0m\u001b[1;33m\u001b[0m\u001b[1;33m\u001b[0m\u001b[0m\n",
      "\u001b[1;31mKeyboardInterrupt\u001b[0m: "
     ]
    }
   ],
   "source": [
    "#Hyperparameters\n",
    "learning_rate2 = 1e-3\n",
    "num_epochs2= 50\n",
    "optimizer2 = tf.keras.optimizers.SGD(learning_rate2)\n",
    "\n",
    "#Saving DAta\n",
    "loss_history2 = []\n",
    "eval_loss_hisotry2 = []\n",
    "total_loss2 = 0\n",
    "\n",
    "@tf.function\n",
    "def train_step2(x, y,cnn):\n",
    "    with tf.GradientTape() as tape:\n",
    "            # Feed input x into cnn. Note that this is using the CNN call function!\n",
    "        y_recon = cnn(x)\n",
    "        loss = custom_loss_function(y, y_recon)\n",
    "    grads = tape.gradient(loss, cnn.trainable_variables)\n",
    "    optimizer2.apply_gradients(zip(grads, cnn.trainable_variables))\n",
    "    return loss,y_recon\n",
    "\n",
    "    \n",
    "# For the SECOND TOWN \n",
    "cnn2 = custom_CNN()\n",
    "total_eval_loss2 = 0\n",
    "eval_loss_hisotry2 = []\n",
    "if hasattr(tqdm, '_instances'): tqdm._instances.clear() # clear if it exists\n",
    "for i in range(num_epochs2):\n",
    "    IPython.display.clear_output(wait=True)\n",
    "    print(\"Starting epoch {}/{} and loss2 : {} and eval_loss2 : {} \\\n",
    "    \".format(i+1, num_epochs2,total_loss2,total_eval_loss2))\n",
    "    total_loss2 = 0\n",
    "\n",
    "          # get a batch of training data and compute the training step\n",
    "    for j in tqdm(range(train_slp.shape[0] // batch_size)):\n",
    "        end_index = min(train_slp.shape[0]-1,j+batch_size)\n",
    "        # load a batch of data\n",
    "        (x, y) = (train_slp[j:end_index],surge_train2[j:end_index])\n",
    "        # loss optimization\n",
    "        loss2,y_recon = train_step2(x, y,cnn2)\n",
    "        total_loss2 += loss2 \n",
    "        \n",
    "    if i %2 == 0:\n",
    "        total_eval_loss2 = 0\n",
    "        total_eval_loss2 = cnn2.evaluate_one_by_one(test_slp,test_surge[:,10:],batch_size)\n",
    "        eval_loss_hisotry2.append(total_eval_loss2)\n",
    "    total_loss2 = total_loss2/(train_slp.shape[0] // batch_size)\n",
    "    loss_history2.append(total_loss2)\n",
    "\n",
    "plt.subplot(1,2,1)\n",
    "plt.plot(np.linspace(1,num_epochs2,num_epochs2),loss_history2)\n",
    "plt.subplot(1,2,2)\n",
    "plt.plot(np.linspace(1,num_epochs2,num_epochs2),eval_loss_hisotry2)"
   ]
  },
  {
   "cell_type": "code",
   "execution_count": 48,
   "id": "85eeb819",
   "metadata": {
    "ExecuteTime": {
     "end_time": "2022-03-22T16:14:08.877526Z",
     "start_time": "2022-03-22T16:13:59.520267Z"
    }
   },
   "outputs": [
    {
     "name": "stderr",
     "output_type": "stream",
     "text": [
      "100%|████████████████████████████████████████████████████████████████████████████████████| 8/8 [00:04<00:00,  1.64it/s]\n"
     ]
    },
    {
     "name": "stdout",
     "output_type": "stream",
     "text": [
      "tf.Tensor(0.34307757, shape=(), dtype=float32)\n"
     ]
    },
    {
     "name": "stderr",
     "output_type": "stream",
     "text": [
      "100%|████████████████████████████████████████████████████████████████████████████████████| 8/8 [00:04<00:00,  1.80it/s]"
     ]
    },
    {
     "name": "stdout",
     "output_type": "stream",
     "text": [
      "tf.Tensor(0.44989896, shape=(), dtype=float32)\n"
     ]
    },
    {
     "name": "stderr",
     "output_type": "stream",
     "text": [
      "\n"
     ]
    }
   ],
   "source": [
    "print(cnn1.evaluate_one_by_one(test_slp,test_surge[:,:10],batch_size))\n",
    "print(cnn2.evaluate_one_by_one(test_slp,test_surge[:,10:],batch_size))"
   ]
  },
  {
   "cell_type": "code",
   "execution_count": null,
   "id": "e0d5df45",
   "metadata": {
    "ExecuteTime": {
     "end_time": "2022-03-22T13:40:19.599781Z",
     "start_time": "2022-03-22T13:40:19.599781Z"
    }
   },
   "outputs": [],
   "source": [
    "y_pred1 = cnn1(slp_test).numpy()\n",
    "y_pred2 = cnn2(slp_test).numpy()\n",
    "y_pred = np.concatenate((y_pred1,y_pred2),axis=1)\n",
    "y_pred = (y_pred*std_surge)+mean_surge\n",
    "print(y_pred.shape)\n",
    "print(y_pred[0,0],y_pred1[0,0],y_pred[0,10],y_pred2[0,0])"
   ]
  },
  {
   "cell_type": "code",
   "execution_count": null,
   "id": "77d14ad7",
   "metadata": {
    "ExecuteTime": {
     "end_time": "2022-03-22T13:40:19.599781Z",
     "start_time": "2022-03-22T13:40:19.599781Z"
    }
   },
   "outputs": [],
   "source": [
    "plt.figure(figsize=(20,8))\n",
    "random_inds = np.random.choice(y_pred.shape[0],4)\n",
    "print(random_inds)\n",
    "for i in range(4):\n",
    "    plt.subplot(2,2,i+1)\n",
    "    plt.xticks([])\n",
    "    image_ind = random_inds[i]\n",
    "    plt.plot(y_pred[image_ind,:])\n",
    "    plt.xlabel('Line '+ str(image_ind)+ ' started at ')"
   ]
  },
  {
   "cell_type": "markdown",
   "id": "eeb6b9d1",
   "metadata": {
    "ExecuteTime": {
     "end_time": "2022-03-21T17:09:36.139128Z",
     "start_time": "2022-03-21T17:09:35.997883Z"
    }
   },
   "source": [
    "y_columns = [f'surge1_t{i}' for i in range(10)] + [f'surge2_t{i}' for i in range(10)]\n",
    "y_test_benchmark = pd.DataFrame(data=y_pred, columns=y_columns, index=data_test['id_sequence'])\n",
    "y_test_benchmark.to_csv('surge_predicted_custom_CNN.csv', index_label='id_sequence', sep=',')"
   ]
  },
  {
   "cell_type": "code",
   "execution_count": null,
   "id": "68cd132b",
   "metadata": {},
   "outputs": [],
   "source": []
  }
 ],
 "metadata": {
  "kernelspec": {
   "display_name": "Python 3 (ipykernel)",
   "language": "python",
   "name": "python3"
  },
  "language_info": {
   "codemirror_mode": {
    "name": "ipython",
    "version": 3
   },
   "file_extension": ".py",
   "mimetype": "text/x-python",
   "name": "python",
   "nbconvert_exporter": "python",
   "pygments_lexer": "ipython3",
   "version": "3.9.7"
  },
  "latex_envs": {
   "LaTeX_envs_menu_present": true,
   "autoclose": true,
   "autocomplete": true,
   "bibliofile": "biblio.bib",
   "cite_by": "apalike",
   "current_citInitial": 1,
   "eqLabelWithNumbers": true,
   "eqNumInitial": 1,
   "hotkeys": {
    "equation": "Ctrl-E",
    "itemize": "Ctrl-I"
   },
   "labels_anchors": false,
   "latex_user_defs": false,
   "report_style_numbering": false,
   "user_envs_cfg": false
  },
  "toc": {
   "base_numbering": 1,
   "nav_menu": {},
   "number_sections": true,
   "sideBar": true,
   "skip_h1_title": false,
   "title_cell": "Table of Contents",
   "title_sidebar": "Contents",
   "toc_cell": false,
   "toc_position": {},
   "toc_section_display": true,
   "toc_window_display": false
  },
  "varInspector": {
   "cols": {
    "lenName": 16,
    "lenType": 16,
    "lenVar": 40
   },
   "kernels_config": {
    "python": {
     "delete_cmd_postfix": "",
     "delete_cmd_prefix": "del ",
     "library": "var_list.py",
     "varRefreshCmd": "print(var_dic_list())"
    },
    "r": {
     "delete_cmd_postfix": ") ",
     "delete_cmd_prefix": "rm(",
     "library": "var_list.r",
     "varRefreshCmd": "cat(var_dic_list()) "
    }
   },
   "types_to_exclude": [
    "module",
    "function",
    "builtin_function_or_method",
    "instance",
    "_Feature"
   ],
   "window_display": false
  }
 },
 "nbformat": 4,
 "nbformat_minor": 5
}
