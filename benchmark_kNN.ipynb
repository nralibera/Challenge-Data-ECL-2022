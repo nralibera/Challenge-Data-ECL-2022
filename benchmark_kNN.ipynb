{
 "cells": [
  {
   "cell_type": "markdown",
   "metadata": {},
   "source": [
    "## Imports, data load, metric function definition"
   ]
  },
  {
   "cell_type": "code",
   "execution_count": 16,
   "metadata": {
    "ExecuteTime": {
     "end_time": "2022-03-21T14:01:21.817335Z",
     "start_time": "2022-03-21T14:01:21.801684Z"
    }
   },
   "outputs": [],
   "source": [
    "import numpy as np\n",
    "from sklearn.model_selection import GridSearchCV\n",
    "import tensorflow as tf\n",
    "import IPython\n",
    "import time\n",
    "import matplotlib.pyplot as plt\n",
    "import functools\n",
    "import pandas as pd\n",
    "import seaborn as sns\n",
    "from tqdm import tqdm\n",
    "from jupyterthemes import jtplot\n",
    "from sklearn.ensemble import RandomForestRegressor\n",
    "from sklearn.svm import SVR\n",
    "from sklearn.neighbors import BallTree\n",
    "from sklearn.model_selection import train_test_split\n",
    "from sklearn.metrics import mean_squared_error\n",
    "jtplot.style()"
   ]
  },
  {
   "cell_type": "code",
   "execution_count": 17,
   "metadata": {
    "ExecuteTime": {
     "end_time": "2022-03-21T14:01:24.692364Z",
     "start_time": "2022-03-21T14:01:23.566269Z"
    },
    "run_control": {
     "marked": true
    }
   },
   "outputs": [],
   "source": [
    "X_train = np.load('X_train_surge_new.npz')\n",
    "Y_train = pd.read_csv('Y_train_surge.csv')\n",
    "X_test_predict = np.load('X_test_surge_new.npz')\n",
    "X_test_predict = X_test_predict[\"slp\"]"
   ]
  },
  {
   "cell_type": "code",
   "execution_count": 18,
   "metadata": {
    "ExecuteTime": {
     "end_time": "2022-03-21T14:01:24.992888Z",
     "start_time": "2022-03-21T14:01:24.976873Z"
    }
   },
   "outputs": [],
   "source": [
    "Y_train = Y_train.to_numpy()\n",
    "Y_train = (Y_train[:,1:21]-np.mean(Y_train[:,1:21]))/np.std(Y_train[:,1:21])"
   ]
  },
  {
   "cell_type": "code",
   "execution_count": 4,
   "metadata": {
    "ExecuteTime": {
     "end_time": "2022-03-21T13:58:14.043789Z",
     "start_time": "2022-03-21T13:58:14.027612Z"
    }
   },
   "outputs": [
    {
     "data": {
      "text/plain": [
       "6.935888439342472"
      ]
     },
     "execution_count": 4,
     "metadata": {},
     "output_type": "execute_result"
    }
   ],
   "source": [
    "np.amax(Y_train)"
   ]
  },
  {
   "cell_type": "markdown",
   "metadata": {},
   "source": [
    "## Train and test split"
   ]
  },
  {
   "cell_type": "code",
   "execution_count": 19,
   "metadata": {
    "ExecuteTime": {
     "end_time": "2022-03-21T14:01:41.641845Z",
     "start_time": "2022-03-21T14:01:27.316780Z"
    }
   },
   "outputs": [],
   "source": [
    "slp = X_train['slp']\n",
    "mean_slp = np.mean(slp)\n",
    "std_slp = np.std(slp)\n",
    "slp = (slp-mean_slp)/std_slp\n",
    "X_test_predict = (X_test_predict- np.mean(X_test_predict))/np.std(X_test_predict)"
   ]
  },
  {
   "cell_type": "code",
   "execution_count": 20,
   "metadata": {
    "ExecuteTime": {
     "end_time": "2022-03-21T14:01:42.755591Z",
     "start_time": "2022-03-21T14:01:41.971195Z"
    }
   },
   "outputs": [],
   "source": [
    "X_train, X_test, y_train, y_test = train_test_split(slp, Y_train, test_size=0.10, random_state=42)"
   ]
  },
  {
   "cell_type": "code",
   "execution_count": 21,
   "metadata": {
    "ExecuteTime": {
     "end_time": "2022-03-21T14:01:43.135498Z",
     "start_time": "2022-03-21T14:01:43.104291Z"
    }
   },
   "outputs": [
    {
     "name": "stdout",
     "output_type": "stream",
     "text": [
      "(5039, 67240)\n"
     ]
    }
   ],
   "source": [
    "shape1 = (X_train.shape[0],X_train.shape[1]*X_train.shape[2]*X_train.shape[3])\n",
    "shape2 = (X_test.shape[0],X_test.shape[1]*X_test.shape[2]*X_test.shape[3])\n",
    "print(shape1)"
   ]
  },
  {
   "cell_type": "code",
   "execution_count": 22,
   "metadata": {
    "ExecuteTime": {
     "end_time": "2022-03-21T14:01:43.512171Z",
     "start_time": "2022-03-21T14:01:43.496577Z"
    }
   },
   "outputs": [],
   "source": [
    "X_train = np.reshape(X_train,shape1)\n",
    "X_test = np.reshape(X_test,shape2)"
   ]
  },
  {
   "cell_type": "code",
   "execution_count": 23,
   "metadata": {
    "ExecuteTime": {
     "end_time": "2022-03-21T14:01:43.716143Z",
     "start_time": "2022-03-21T14:01:43.700520Z"
    }
   },
   "outputs": [
    {
     "name": "stdout",
     "output_type": "stream",
     "text": [
      "(5039, 67240)\n"
     ]
    }
   ],
   "source": [
    "print(X_train.shape)"
   ]
  },
  {
   "cell_type": "code",
   "execution_count": 30,
   "metadata": {
    "ExecuteTime": {
     "end_time": "2022-03-21T14:19:56.965980Z",
     "start_time": "2022-03-21T14:12:41.226318Z"
    }
   },
   "outputs": [
    {
     "name": "stderr",
     "output_type": "stream",
     "text": [
      "[Parallel(n_jobs=-1)]: Using backend ThreadingBackend with 4 concurrent workers.\n",
      "[Parallel(n_jobs=-1)]: Done  42 tasks      | elapsed:  1.2min\n",
      "[Parallel(n_jobs=-1)]: Done 192 tasks      | elapsed:  5.6min\n"
     ]
    },
    {
     "name": "stdout",
     "output_type": "stream",
     "text": [
      "0.7802172021191267\n"
     ]
    },
    {
     "name": "stderr",
     "output_type": "stream",
     "text": [
      "[Parallel(n_jobs=-1)]: Done 250 out of 250 | elapsed:  7.3min finished\n",
      "[Parallel(n_jobs=4)]: Using backend ThreadingBackend with 4 concurrent workers.\n",
      "[Parallel(n_jobs=4)]: Done  42 tasks      | elapsed:    0.0s\n",
      "[Parallel(n_jobs=4)]: Done 192 tasks      | elapsed:    0.0s\n",
      "[Parallel(n_jobs=4)]: Done 250 out of 250 | elapsed:    0.0s finished\n"
     ]
    }
   ],
   "source": [
    "random_forest = RandomForestRegressor(n_estimators=250,verbose=1,max_samples=400,\\\n",
    "                                         max_features=0.2,n_jobs=-1,max_depth=100)\n",
    "random_forest.fit(X_train,y_train[:,:10])\n",
    "y_pred1 = random_forest.predict(X_test)  \n",
    "\n",
    "#y_pred1 = np.reshape(np.array(y_pred1),(X_test.shape[0],10))\n",
    "mse = mean_squared_error(y_test[:,:10],y_pred1)\n",
    "print(mse)"
   ]
  },
  {
   "cell_type": "markdown",
   "metadata": {},
   "source": [
    "**Tree for querying the closest n_neighbour**"
   ]
  },
  {
   "cell_type": "code",
   "execution_count": null,
   "metadata": {
    "ExecuteTime": {
     "end_time": "2022-03-21T13:58:29.612826Z",
     "start_time": "2022-03-21T13:58:29.612826Z"
    }
   },
   "outputs": [],
   "source": [
    "tree = BallTree(slp_train)"
   ]
  },
  {
   "cell_type": "code",
   "execution_count": null,
   "metadata": {
    "ExecuteTime": {
     "end_time": "2022-03-21T13:58:29.616826Z",
     "start_time": "2022-03-21T13:58:29.616826Z"
    }
   },
   "outputs": [],
   "source": [
    "y_pred1.shape"
   ]
  },
  {
   "cell_type": "code",
   "execution_count": null,
   "metadata": {
    "ExecuteTime": {
     "end_time": "2022-03-21T13:58:29.616826Z",
     "start_time": "2022-03-21T13:58:29.616826Z"
    }
   },
   "outputs": [],
   "source": [
    "mse = mean_squared_error(y_test[:,:10],y_pred1)\n",
    "print(mse)"
   ]
  }
 ],
 "metadata": {
  "kernelspec": {
   "display_name": "Python 3 (ipykernel)",
   "language": "python",
   "name": "python3"
  },
  "language_info": {
   "codemirror_mode": {
    "name": "ipython",
    "version": 3
   },
   "file_extension": ".py",
   "mimetype": "text/x-python",
   "name": "python",
   "nbconvert_exporter": "python",
   "pygments_lexer": "ipython3",
   "version": "3.9.7"
  },
  "latex_envs": {
   "LaTeX_envs_menu_present": true,
   "autoclose": true,
   "autocomplete": true,
   "bibliofile": "biblio.bib",
   "cite_by": "apalike",
   "current_citInitial": 1,
   "eqLabelWithNumbers": true,
   "eqNumInitial": 1,
   "hotkeys": {
    "equation": "Ctrl-E",
    "itemize": "Ctrl-I"
   },
   "labels_anchors": false,
   "latex_user_defs": false,
   "report_style_numbering": false,
   "user_envs_cfg": false
  },
  "toc": {
   "base_numbering": 1,
   "nav_menu": {},
   "number_sections": true,
   "sideBar": true,
   "skip_h1_title": false,
   "title_cell": "Table of Contents",
   "title_sidebar": "Contents",
   "toc_cell": false,
   "toc_position": {},
   "toc_section_display": true,
   "toc_window_display": true
  },
  "varInspector": {
   "cols": {
    "lenName": 16,
    "lenType": 16,
    "lenVar": 40
   },
   "kernels_config": {
    "python": {
     "delete_cmd_postfix": "",
     "delete_cmd_prefix": "del ",
     "library": "var_list.py",
     "varRefreshCmd": "print(var_dic_list())"
    },
    "r": {
     "delete_cmd_postfix": ") ",
     "delete_cmd_prefix": "rm(",
     "library": "var_list.r",
     "varRefreshCmd": "cat(var_dic_list()) "
    }
   },
   "types_to_exclude": [
    "module",
    "function",
    "builtin_function_or_method",
    "instance",
    "_Feature"
   ],
   "window_display": false
  }
 },
 "nbformat": 4,
 "nbformat_minor": 2
}
