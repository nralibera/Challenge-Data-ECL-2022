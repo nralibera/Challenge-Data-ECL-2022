{
 "cells": [
  {
   "cell_type": "code",
   "execution_count": 1,
   "id": "5b41c082",
   "metadata": {
    "ExecuteTime": {
     "end_time": "2022-03-22T16:21:54.581700Z",
     "start_time": "2022-03-22T16:21:47.096143Z"
    }
   },
   "outputs": [],
   "source": [
    "import numpy as np\n",
    "import tensorflow as tf\n",
    "import IPython\n",
    "import matplotlib.pyplot as plt\n",
    "import functools\n",
    "import pandas as pd\n",
    "import seaborn as sns\n",
    "from tqdm import tqdm\n",
    "from jupyterthemes import jtplot\n",
    "jtplot.style()"
   ]
  },
  {
   "cell_type": "code",
   "execution_count": 2,
   "id": "366c56d7",
   "metadata": {
    "ExecuteTime": {
     "end_time": "2022-03-22T16:21:57.210469Z",
     "start_time": "2022-03-22T16:21:54.581700Z"
    }
   },
   "outputs": [
    {
     "name": "stdout",
     "output_type": "stream",
     "text": [
      "[PhysicalDevice(name='/physical_device:GPU:0', device_type='GPU')]\n"
     ]
    }
   ],
   "source": [
    "physical_devices = tf.config.list_physical_devices(\"GPU\")\n",
    "print(physical_devices)"
   ]
  },
  {
   "cell_type": "code",
   "execution_count": 3,
   "id": "431a8c39",
   "metadata": {
    "ExecuteTime": {
     "end_time": "2022-03-22T16:22:08.290260Z",
     "start_time": "2022-03-22T16:21:57.218469Z"
    }
   },
   "outputs": [],
   "source": [
    "Y_train = pd.read_csv('Y_train_surge.csv')\n",
    "Y_train = Y_train.to_numpy()\n",
    "surge_input = Y_train[:,1:21].astype(np.float32)\n",
    "\n",
    "data = np.load(\"X_train_surge_new.npz\")\n",
    "slp = data[\"slp\"].astype(np.float32) #the 40 sea-level pressure (SLP) fields, encoded in images of size (41, 41)."
   ]
  },
  {
   "cell_type": "code",
   "execution_count": 4,
   "id": "866cf173",
   "metadata": {
    "ExecuteTime": {
     "end_time": "2022-03-22T16:22:10.267386Z",
     "start_time": "2022-03-22T16:22:08.290260Z"
    }
   },
   "outputs": [],
   "source": [
    "data_test = np.load(\"X_test_surge_new.npz\")\n",
    "slp_test =  data_test[\"slp\"].astype(np.float32)"
   ]
  },
  {
   "cell_type": "code",
   "execution_count": 5,
   "id": "1951b6aa",
   "metadata": {
    "ExecuteTime": {
     "end_time": "2022-03-22T16:22:16.332769Z",
     "start_time": "2022-03-22T16:22:10.267386Z"
    }
   },
   "outputs": [],
   "source": [
    "### SLP ###\n",
    "shape = slp.shape\n",
    "mean_slp = np.mean(slp)\n",
    "std_slp = np.std(slp)\n",
    "slp = np.reshape((slp-mean_slp)/std_slp,(shape[0],shape[1],shape[2],shape[3],1))\n",
    "shape = slp_test.shape\n",
    "slp_test = np.reshape((slp_test-mean_slp)/std_slp,(shape[0],shape[1],shape[2],shape[3],1))\n",
    "\n",
    "#### SURGE #####\n",
    "mean_surge = np.mean(surge_input)\n",
    "std_surge = np.std(surge_input)\n",
    "surge_input = (surge_input-mean_surge)/std_surge"
   ]
  },
  {
   "cell_type": "code",
   "execution_count": 6,
   "id": "5224fe20",
   "metadata": {
    "ExecuteTime": {
     "end_time": "2022-03-22T16:22:16.881942Z",
     "start_time": "2022-03-22T16:22:16.352896Z"
    }
   },
   "outputs": [
    {
     "name": "stdout",
     "output_type": "stream",
     "text": [
      "(5039, 40, 41, 41, 1)\n",
      "(5039, 20)\n"
     ]
    }
   ],
   "source": [
    "#np.random.seed(0)\n",
    "## indexes for train and test set\n",
    "train_set_idx = np.random.choice(slp.shape[0],int(slp.shape[0]*0.9),replace = False)\n",
    "test_set_idx = np.delete(np.arange(slp.shape[0]),train_set_idx)\n",
    "\n",
    "## TRAIN SET\n",
    "train_slp = slp[train_set_idx]\n",
    "train_surge = surge_input[train_set_idx]\n",
    "### TEST SET\n",
    "test_slp = slp[test_set_idx]\n",
    "test_surge = surge_input[test_set_idx]\n",
    "\n",
    "\n",
    "print(train_slp.shape)\n",
    "print(train_surge.shape)"
   ]
  },
  {
   "cell_type": "code",
   "execution_count": 7,
   "id": "c4fc9d3f",
   "metadata": {
    "ExecuteTime": {
     "end_time": "2022-03-22T16:22:16.897565Z",
     "start_time": "2022-03-22T16:22:16.881942Z"
    }
   },
   "outputs": [],
   "source": [
    "def custom_loss_function(y, y_recon,weight=[1,0.9,0.8,0.7,0.6,0.5,0.4,0.3,0.2,0.1]):\n",
    "    weight = tf.convert_to_tensor(weight, dtype=tf.float32)\n",
    "    substract = tf.math.square(y-y_recon)\n",
    "    loss = tf.reduce_mean(tf.math.multiply(weight,substract))\n",
    "    return loss"
   ]
  },
  {
   "cell_type": "code",
   "execution_count": 24,
   "id": "319f3a59",
   "metadata": {
    "ExecuteTime": {
     "end_time": "2022-03-22T16:44:12.708620Z",
     "start_time": "2022-03-22T16:44:12.680435Z"
    }
   },
   "outputs": [],
   "source": [
    "n_filters = 12 # base number of convolutional filters, same as standard CNN\n",
    "\n",
    "def make_standard_cnn(n_outputs=10):\n",
    "  Conv3D = functools.partial(tf.keras.layers.Conv3D, activation='relu')\n",
    "  BatchNormalization = tf.keras.layers.BatchNormalization\n",
    "  Maxpool = tf.keras.layers.MaxPool3D\n",
    "  Flatten = tf.keras.layers.Flatten\n",
    "  Dense = functools.partial(tf.keras.layers.Dense, activation='tanh')\n",
    "\n",
    "  model = tf.keras.Sequential([\n",
    "    Conv3D(filters=int(1*n_filters), kernel_size=(4,3,3),strides=(2,1,1)),\n",
    "    Maxpool(),\n",
    "    \n",
    "    Conv3D(filters=int(2*n_filters), kernel_size=3,  strides=(1,1,1)),\n",
    "    #Maxpool(),\n",
    "    \n",
    "    Conv3D(filters=int(3*n_filters), kernel_size=3,  strides=(1,1,1)),\n",
    "    Maxpool(pool_size=(1, 2, 2)),\n",
    "    BatchNormalization(),\n",
    "      \n",
    "    Conv3D(filters=int(4*n_filters), kernel_size=2,  strides=(1,1,1)),\n",
    "    BatchNormalization(),\n",
    "    \n",
    "    Flatten(),\n",
    "    Dense(80),\n",
    "    tf.keras.layers.Dropout(rate=0.25),\n",
    "    Dense(80),\n",
    "    tf.keras.layers.Dropout(rate=0.5),\n",
    "    Dense(n_outputs, activation=None), \n",
    "  ])\n",
    "  return model\n"
   ]
  },
  {
   "cell_type": "code",
   "execution_count": 25,
   "id": "fe7ad0cb",
   "metadata": {
    "ExecuteTime": {
     "end_time": "2022-03-22T16:44:13.791612Z",
     "start_time": "2022-03-22T16:44:13.225828Z"
    }
   },
   "outputs": [
    {
     "name": "stdout",
     "output_type": "stream",
     "text": [
      "Model: \"sequential_7\"\n",
      "_________________________________________________________________\n",
      " Layer (type)                Output Shape              Param #   \n",
      "=================================================================\n",
      " conv3d_28 (Conv3D)          (5039, 19, 39, 39, 12)    444       \n",
      "                                                                 \n",
      " max_pooling3d_15 (MaxPoolin  (5039, 9, 19, 19, 12)    0         \n",
      " g3D)                                                            \n",
      "                                                                 \n",
      " conv3d_29 (Conv3D)          (5039, 7, 17, 17, 24)     7800      \n",
      "                                                                 \n",
      " conv3d_30 (Conv3D)          (5039, 5, 15, 15, 36)     23364     \n",
      "                                                                 \n",
      " max_pooling3d_16 (MaxPoolin  (5039, 5, 7, 7, 36)      0         \n",
      " g3D)                                                            \n",
      "                                                                 \n",
      " batch_normalization_14 (Bat  (5039, 5, 7, 7, 36)      144       \n",
      " chNormalization)                                                \n",
      "                                                                 \n",
      " conv3d_31 (Conv3D)          (5039, 4, 6, 6, 48)       13872     \n",
      "                                                                 \n",
      " batch_normalization_15 (Bat  (5039, 4, 6, 6, 48)      192       \n",
      " chNormalization)                                                \n",
      "                                                                 \n",
      " flatten_7 (Flatten)         (5039, 6912)              0         \n",
      "                                                                 \n",
      " dense_21 (Dense)            (5039, 80)                553040    \n",
      "                                                                 \n",
      " dropout_14 (Dropout)        (5039, 80)                0         \n",
      "                                                                 \n",
      " dense_22 (Dense)            (5039, 80)                6480      \n",
      "                                                                 \n",
      " dropout_15 (Dropout)        (5039, 80)                0         \n",
      "                                                                 \n",
      " dense_23 (Dense)            (5039, 10)                810       \n",
      "                                                                 \n",
      "=================================================================\n",
      "Total params: 606,146\n",
      "Trainable params: 605,978\n",
      "Non-trainable params: 168\n",
      "_________________________________________________________________\n"
     ]
    }
   ],
   "source": [
    "model = make_standard_cnn()\n",
    "model.build(input_shape = train_slp.shape)\n",
    "model.compile(optimizer = tf.keras.optimizers.SGD(learning_rate=1e-2), \n",
    "              loss='MeanSquaredError',\n",
    "              metrics=['RootMeanSquaredError'\n",
    "                      ])\n",
    "model.summary()"
   ]
  },
  {
   "cell_type": "code",
   "execution_count": 26,
   "id": "cba8cd51",
   "metadata": {
    "ExecuteTime": {
     "end_time": "2022-03-22T16:44:25.544214Z",
     "start_time": "2022-03-22T16:44:25.512722Z"
    }
   },
   "outputs": [],
   "source": [
    "class custom_CNN(tf.keras.Model):\n",
    "    def __init__(self, n_output=10):\n",
    "        super(custom_CNN, self).__init__()\n",
    "        self.n_output= n_output\n",
    "        self.weight = [1,0.9,0.8,0.7,0.6,0.5,0.4,0.3,0.2,0.1]\n",
    "        self.cnn = make_standard_cnn()\n",
    "\n",
    "  # The call function will be used to pass inputs x through the core CNN\n",
    "    def call(self, x): \n",
    "        reconstruction = self.cnn(x)\n",
    "        return reconstruction\n",
    "\n",
    "  # Predict face or not face logit for given input x\n",
    "    def evaluate(self, x_eval,y_eval):\n",
    "        y_pred = self.cnn(x_eval)\n",
    "        weighted_mse = custom_loss_function(y_pred, y_eval,self.weight)\n",
    "        print(f'Evaluation Loss : {weighted_mse}')\n",
    "        return weighted_mse"
   ]
  },
  {
   "cell_type": "markdown",
   "id": "572e9e17",
   "metadata": {
    "ExecuteTime": {
     "end_time": "2022-03-20T17:15:34.353721Z",
     "start_time": "2022-03-20T17:15:34.322387Z"
    }
   },
   "source": [
    "# To define the training operation, we will use tf.function which is a powerful tool \n",
    "#   that lets us turn a Python function into a TensorFlow computation graph.\n",
    "def train_step(x, y,cnn,optimizer):\n",
    "    with tf.GradientTape() as tape:\n",
    "        y_recon = cnn(x)\n",
    "        loss = custom_loss_function(y, y_recon)\n",
    "    grads = tape.gradient(loss, cnn.trainable_variables)\n",
    "\n",
    "    optimizer.apply_gradients(zip(grads, cnn.trainable_variables))\n",
    "    return loss,y_recon"
   ]
  },
  {
   "cell_type": "code",
   "execution_count": null,
   "id": "8ba53093",
   "metadata": {
    "ExecuteTime": {
     "start_time": "2022-03-22T16:44:29.083Z"
    },
    "scrolled": false
   },
   "outputs": [
    {
     "name": "stdout",
     "output_type": "stream",
     "text": [
      "Starting epoch 33/50 and loss1 : 0.30959445238113403 and eval_loss1 : 0.3148971199989319             \n"
     ]
    },
    {
     "name": "stderr",
     "output_type": "stream",
     "text": [
      " 59%|███████████████████████████████████████████████▏                                | 185/314 [00:13<00:08, 15.15it/s]"
     ]
    }
   ],
   "source": [
    "# Hyperparameters\n",
    "batch_size = 16\n",
    "learning_rate1 = 1e-3\n",
    "num_epochs1 = 50\n",
    "optimizer1 = tf.keras.optimizers.Adagrad(learning_rate1)\n",
    "\n",
    "#data saving\n",
    "loss_history1 = []\n",
    "eval_loss_hisotry1 = []\n",
    "total_loss1 = 0\n",
    "\n",
    "# To define the training operation, we will use tf.function which is a powerful tool \n",
    "#   that lets us turn a Python function into a TensorFlow computation graph.\n",
    "@tf.function\n",
    "def train_step1(x, y,cnn):\n",
    "    with tf.GradientTape() as tape:\n",
    "        # Feed input x into cnn. Note that this is using the CNN call function!\n",
    "        y_recon = cnn(x)\n",
    "        loss = custom_loss_function(y, y_recon)\n",
    "    grads = tape.gradient(loss, cnn.trainable_variables)\n",
    "    optimizer1.apply_gradients(zip(grads, cnn.trainable_variables))\n",
    "    return loss,y_recon\n",
    "\n",
    "total_eval_loss1 = 0    \n",
    "cnn1 = custom_CNN()\n",
    "if hasattr(tqdm, '_instances'): tqdm._instances.clear() # clear if it exists\n",
    "        # For the first TOWN\n",
    "for i in range(num_epochs1):\n",
    "    #learning rate decay\n",
    "    \"\"\"if num_epochs1 > 13 : \n",
    "        cosine_decay = 0.7 * (1 + tf.math.cos(np.pi * 4 / 13))\n",
    "        learning_rate1 = learning_rate1*cosine_decay\n",
    "        optimizer1 = tf.keras.optimizers.SGD(learning_rate1)\"\"\"\n",
    "\n",
    "    IPython.display.clear_output(wait=True)\n",
    "    print(\"Starting epoch {}/{} and loss1 : {} and eval_loss1 : {} \\\n",
    "            \".format(i+1, num_epochs1,total_loss1,total_eval_loss1))\n",
    "    # get a batch of training data and compute the training step\n",
    "    total_loss1 = 0\n",
    "    total_eval_loss1 = 0\n",
    "    for j in tqdm(range(train_slp.shape[0] // batch_size)):\n",
    "        end_index = min(train_slp.shape[0],(j+1)*batch_size)\n",
    "            # load a batch of data\n",
    "        (x, y) = (train_slp[j*batch_size:end_index],train_surge[j*batch_size:end_index,:10])\n",
    "        # loss optimization\n",
    "        loss1,y_recon = train_step1(x, y,cnn1)\n",
    "        total_loss1 += loss1 \n",
    "    total_eval_loss1 = cnn1.evaluate(test_slp,test_surge[:,:10])\n",
    "    eval_loss_hisotry1.append(total_eval_loss1)\n",
    "    total_loss1 = total_loss1/(train_slp.shape[0] // batch_size)\n",
    "    loss_history1.append(total_loss1)\n",
    "                     \n",
    "#PLOT\n",
    "plt.subplot(1,2,1)\n",
    "plt.plot(np.linspace(1,num_epochs1,num_epochs1),loss_history1)\n",
    "plt.subplot(1,2,2)\n",
    "plt.plot(np.linspace(1,num_epochs1,num_epochs1),eval_loss_hisotry1)\n"
   ]
  },
  {
   "cell_type": "code",
   "execution_count": 15,
   "id": "3b11b415",
   "metadata": {
    "ExecuteTime": {
     "end_time": "2022-03-22T16:23:16.876055Z",
     "start_time": "2022-03-22T16:23:16.860008Z"
    }
   },
   "outputs": [],
   "source": [
    "train_surge2 = np.copy(train_surge[:,10:])"
   ]
  },
  {
   "cell_type": "code",
   "execution_count": 17,
   "id": "01bf4467",
   "metadata": {
    "ExecuteTime": {
     "end_time": "2022-03-22T16:38:25.120938Z",
     "start_time": "2022-03-22T16:23:22.891733Z"
    }
   },
   "outputs": [
    {
     "name": "stdout",
     "output_type": "stream",
     "text": [
      "Starting epoch 50/50 and loss2 : 0.3521168828010559 and eval_loss2 : 0.3647216260433197         \n"
     ]
    },
    {
     "name": "stderr",
     "output_type": "stream",
     "text": [
      "100%|████████████████████████████████████████████████████████████████████████████████| 314/314 [00:15<00:00, 19.99it/s]\n"
     ]
    },
    {
     "name": "stdout",
     "output_type": "stream",
     "text": [
      "Evaluation Loss : 0.3646620810031891\n"
     ]
    },
    {
     "data": {
      "text/plain": [
       "[<matplotlib.lines.Line2D at 0x1a9a7e2fac0>]"
      ]
     },
     "execution_count": 17,
     "metadata": {},
     "output_type": "execute_result"
    },
    {
     "data": {
      "image/png": "[encoded data removed]",
      "text/plain": [
       "<Figure size 460.8x403.2 with 2 Axes>"
      ]
     },
     "metadata": {},
     "output_type": "display_data"
    }
   ],
   "source": [
    "#Hyperparameters\n",
    "batch_size = 16\n",
    "learning_rate2 = 1e-3\n",
    "num_epochs2= 50\n",
    "optimizer2 = tf.keras.optimizers.SGD(learning_rate2)\n",
    "\n",
    "#Saving DAta\n",
    "loss_history2 = []\n",
    "eval_loss_hisotry2 = []\n",
    "total_loss2 = 0\n",
    "\n",
    "@tf.function\n",
    "def train_step2(x, y,cnn):\n",
    "    with tf.GradientTape() as tape:\n",
    "            # Feed input x into cnn. Note that this is using the CNN call function!\n",
    "        y_recon = cnn(x)\n",
    "        loss = custom_loss_function(y, y_recon)\n",
    "    grads = tape.gradient(loss, cnn.trainable_variables)\n",
    "    optimizer2.apply_gradients(zip(grads, cnn.trainable_variables))\n",
    "    return loss,y_recon\n",
    "\n",
    "    \n",
    "# For the SECOND TOWN \n",
    "cnn2 = custom_CNN()\n",
    "total_eval_loss2 = 0\n",
    "if hasattr(tqdm, '_instances'): tqdm._instances.clear() # clear if it exists\n",
    "for i in range(num_epochs2):\n",
    "        IPython.display.clear_output(wait=True)\n",
    "        print(\"Starting epoch {}/{} and loss2 : {} and eval_loss2 : {} \\\n",
    "        \".format(i+1, num_epochs2,total_loss2,total_eval_loss2))\n",
    "        total_loss2 = 0\n",
    "        total_eval_loss2 = 0\n",
    "          # get a batch of training data and compute the training step\n",
    "        for j in tqdm(range(train_slp.shape[0] // batch_size)):\n",
    "            end_index = min(train_slp.shape[0],(j+1)*batch_size)\n",
    "            # load a batch of data\n",
    "            (x, y) = (train_slp[j*batch_size:end_index],train_surge2[j*batch_size:end_index])\n",
    "            # loss optimization\n",
    "            loss2,y_recon = train_step2(x, y,cnn2)\n",
    "            total_loss2 += loss2 \n",
    "                \n",
    "        total_eval_loss2 = cnn2.evaluate(test_slp,test_surge[:,10:])\n",
    "        eval_loss_hisotry2.append(total_eval_loss2)\n",
    "        total_loss2 = total_loss2/(train_slp.shape[0] // batch_size)\n",
    "        loss_history2.append(total_loss2)\n",
    "\n",
    "plt.subplot(1,2,1)\n",
    "plt.plot(np.linspace(1,num_epochs2,num_epochs2),loss_history2)\n",
    "plt.subplot(1,2,2)\n",
    "plt.plot(np.linspace(1,num_epochs2,num_epochs2),eval_loss_hisotry2)"
   ]
  },
  {
   "cell_type": "code",
   "execution_count": 18,
   "id": "85eeb819",
   "metadata": {
    "ExecuteTime": {
     "end_time": "2022-03-22T13:01:09.275664Z",
     "start_time": "2022-03-22T13:01:05.149811Z"
    }
   },
   "outputs": [
    {
     "name": "stdout",
     "output_type": "stream",
     "text": [
      "Evaluation Loss : 0.3345368206501007\n",
      "Evaluation Loss : 0.3490586578845978\n"
     ]
    },
    {
     "data": {
      "text/plain": [
       "<tf.Tensor: shape=(), dtype=float32, numpy=0.34905866>"
      ]
     },
     "execution_count": 18,
     "metadata": {},
     "output_type": "execute_result"
    }
   ],
   "source": [
    "cnn1.evaluate(test_slp,test_surge[:,:10])\n",
    "cnn2.evaluate(test_slp,test_surge[:,10:])"
   ]
  },
  {
   "cell_type": "code",
   "execution_count": 19,
   "id": "e0d5df45",
   "metadata": {
    "ExecuteTime": {
     "end_time": "2022-03-22T13:01:23.155245Z",
     "start_time": "2022-03-22T13:01:12.645238Z"
    }
   },
   "outputs": [
    {
     "name": "stdout",
     "output_type": "stream",
     "text": [
      "(509, 20)\n",
      "-0.92148006 -0.92374855 -0.48265445 -0.48135227\n"
     ]
    }
   ],
   "source": [
    "y_pred1 = cnn1(slp_test).numpy()\n",
    "y_pred2 = cnn2(slp_test).numpy()\n",
    "y_pred = np.concatenate((y_pred1,y_pred2),axis=1)\n",
    "y_pred = (y_pred*std_surge)+mean_surge\n",
    "print(y_pred.shape)\n",
    "print(y_pred[0,0],y_pred1[0,0],y_pred[0,10],y_pred2[0,0])"
   ]
  },
  {
   "cell_type": "code",
   "execution_count": 20,
   "id": "77d14ad7",
   "metadata": {
    "ExecuteTime": {
     "end_time": "2022-03-22T13:01:32.936097Z",
     "start_time": "2022-03-22T13:01:31.570234Z"
    }
   },
   "outputs": [
    {
     "name": "stdout",
     "output_type": "stream",
     "text": [
      "[103 339 463 256]\n"
     ]
    },
    {
     "data": {
      "image/png": "[encoded data removed]",
      "text/plain": [
       "<Figure size 1440x576 with 4 Axes>"
      ]
     },
     "metadata": {},
     "output_type": "display_data"
    }
   ],
   "source": [
    "plt.figure(figsize=(20,8))\n",
    "random_inds = np.random.choice(y_pred.shape[0],4)\n",
    "print(random_inds)\n",
    "for i in range(4):\n",
    "    plt.subplot(2,2,i+1)\n",
    "    plt.xticks([])\n",
    "    image_ind = random_inds[i]\n",
    "    plt.plot(y_pred[image_ind,:])\n",
    "    plt.xlabel('Line '+ str(image_ind)+ ' started at ')"
   ]
  },
  {
   "cell_type": "code",
   "execution_count": 21,
   "id": "910bfd93",
   "metadata": {
    "ExecuteTime": {
     "end_time": "2022-03-22T13:01:47.086943Z",
     "start_time": "2022-03-22T13:01:46.854663Z"
    }
   },
   "outputs": [],
   "source": [
    "y_columns = [f'surge1_t{i}' for i in range(10)] + [f'surge2_t{i}' for i in range(10)]\n",
    "y_test_benchmark = pd.DataFrame(data=y_pred, columns=y_columns, index=data_test['id_sequence'])\n",
    "y_test_benchmark.to_csv('surge_predicted_custom_CNN2.csv', index_label='id_sequence', sep=',')"
   ]
  },
  {
   "cell_type": "code",
   "execution_count": null,
   "id": "68cd132b",
   "metadata": {},
   "outputs": [],
   "source": []
  }
 ],
 "metadata": {
  "kernelspec": {
   "display_name": "Python 3 (ipykernel)",
   "language": "python",
   "name": "python3"
  },
  "language_info": {
   "codemirror_mode": {
    "name": "ipython",
    "version": 3
   },
   "file_extension": ".py",
   "mimetype": "text/x-python",
   "name": "python",
   "nbconvert_exporter": "python",
   "pygments_lexer": "ipython3",
   "version": "3.9.7"
  },
  "latex_envs": {
   "LaTeX_envs_menu_present": true,
   "autoclose": true,
   "autocomplete": true,
   "bibliofile": "biblio.bib",
   "cite_by": "apalike",
   "current_citInitial": 1,
   "eqLabelWithNumbers": true,
   "eqNumInitial": 1,
   "hotkeys": {
    "equation": "Ctrl-E",
    "itemize": "Ctrl-I"
   },
   "labels_anchors": false,
   "latex_user_defs": false,
   "report_style_numbering": false,
   "user_envs_cfg": false
  },
  "toc": {
   "base_numbering": 1,
   "nav_menu": {},
   "number_sections": true,
   "sideBar": true,
   "skip_h1_title": false,
   "title_cell": "Table of Contents",
   "title_sidebar": "Contents",
   "toc_cell": false,
   "toc_position": {},
   "toc_section_display": true,
   "toc_window_display": false
  },
  "varInspector": {
   "cols": {
    "lenName": 16,
    "lenType": 16,
    "lenVar": 40
   },
   "kernels_config": {
    "python": {
     "delete_cmd_postfix": "",
     "delete_cmd_prefix": "del ",
     "library": "var_list.py",
     "varRefreshCmd": "print(var_dic_list())"
    },
    "r": {
     "delete_cmd_postfix": ") ",
     "delete_cmd_prefix": "rm(",
     "library": "var_list.r",
     "varRefreshCmd": "cat(var_dic_list()) "
    }
   },
   "types_to_exclude": [
    "module",
    "function",
    "builtin_function_or_method",
    "instance",
    "_Feature"
   ],
   "window_display": false
  }
 },
 "nbformat": 4,
 "nbformat_minor": 5
}
