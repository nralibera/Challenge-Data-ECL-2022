{
 "cells": [
  {
   "cell_type": "markdown",
   "metadata": {},
   "source": [
    "## Imports, data load, metric function definition"
   ]
  },
  {
   "cell_type": "code",
   "execution_count": 1,
   "metadata": {
    "ExecuteTime": {
     "end_time": "2022-03-17T13:48:25.532688Z",
     "start_time": "2022-03-17T13:48:14.354686Z"
    }
   },
   "outputs": [],
   "source": [
    "import numpy as np\n",
    "from sklearn.model_selection import GridSearchCV\n",
    "import tensorflow as tf\n",
    "import IPython\n",
    "import time\n",
    "import matplotlib.pyplot as plt\n",
    "import functools\n",
    "import pandas as pd\n",
    "import seaborn as sns\n",
    "from tqdm import tqdm\n",
    "from jupyterthemes import jtplot\n",
    "from sklearn.ensemble import RandomForestRegressor\n",
    "from sklearn.svm import SVR\n",
    "from sklearn.neighbors import BallTree\n",
    "from sklearn.model_selection import train_test_split\n",
    "from sklearn.metrics import mean_squared_error\n",
    "jtplot.style()"
   ]
  },
  {
   "cell_type": "code",
   "execution_count": 2,
   "metadata": {
    "ExecuteTime": {
     "end_time": "2022-03-17T13:48:27.228329Z",
     "start_time": "2022-03-17T13:48:25.570015Z"
    },
    "run_control": {
     "marked": true
    }
   },
   "outputs": [],
   "source": [
    "X_train = np.load('X_train_surge_new.npz')\n",
    "Y_train = pd.read_csv('Y_train_surge.csv')\n",
    "X_test_predict = np.load('X_test_surge_new.npz')\n",
    "X_test_predict = X_test_predict[\"slp\"]"
   ]
  },
  {
   "cell_type": "code",
   "execution_count": 3,
   "metadata": {
    "ExecuteTime": {
     "end_time": "2022-03-17T13:48:27.378731Z",
     "start_time": "2022-03-17T13:48:27.366435Z"
    }
   },
   "outputs": [],
   "source": [
    "Y_train = Y_train.to_numpy()\n",
    "Y_train = Y_train[:,1:21]"
   ]
  },
  {
   "cell_type": "code",
   "execution_count": 4,
   "metadata": {
    "ExecuteTime": {
     "end_time": "2022-03-17T13:48:27.496402Z",
     "start_time": "2022-03-17T13:48:27.470923Z"
    }
   },
   "outputs": [
    {
     "data": {
      "text/plain": [
       "6.874718849000209"
      ]
     },
     "execution_count": 4,
     "metadata": {},
     "output_type": "execute_result"
    }
   ],
   "source": [
    "np.amax(Y_train)"
   ]
  },
  {
   "cell_type": "code",
   "execution_count": 5,
   "metadata": {
    "ExecuteTime": {
     "end_time": "2022-03-17T13:48:27.597947Z",
     "start_time": "2022-03-17T13:48:27.585590Z"
    }
   },
   "outputs": [],
   "source": [
    "surge_train = np.array(Y_train)[:,1:]"
   ]
  },
  {
   "cell_type": "code",
   "execution_count": 6,
   "metadata": {
    "ExecuteTime": {
     "end_time": "2022-03-17T13:48:27.710113Z",
     "start_time": "2022-03-17T13:48:27.694515Z"
    }
   },
   "outputs": [
    {
     "data": {
      "text/plain": [
       "(5599, 19)"
      ]
     },
     "execution_count": 6,
     "metadata": {},
     "output_type": "execute_result"
    }
   ],
   "source": [
    "surge_train.shape "
   ]
  },
  {
   "cell_type": "markdown",
   "metadata": {},
   "source": [
    "## Train and test split"
   ]
  },
  {
   "cell_type": "code",
   "execution_count": 7,
   "metadata": {
    "ExecuteTime": {
     "end_time": "2022-03-17T13:48:51.284692Z",
     "start_time": "2022-03-17T13:48:27.799191Z"
    }
   },
   "outputs": [],
   "source": [
    "slp = X_train['slp']\n",
    "mean_slp = np.mean(slp)\n",
    "std_slp = np.std(slp)\n",
    "slp = (slp-mean_slp)/std_slp\n",
    "X_test_predict = (X_test_predict- np.mean(X_test_predict))/np.std(X_test_predict)"
   ]
  },
  {
   "cell_type": "code",
   "execution_count": 8,
   "metadata": {
    "ExecuteTime": {
     "end_time": "2022-03-17T13:48:53.252887Z",
     "start_time": "2022-03-17T13:48:51.507406Z"
    }
   },
   "outputs": [],
   "source": [
    "X_train, X_test, y_train, y_test = train_test_split(slp, Y_train, test_size=0.10, random_state=42)"
   ]
  },
  {
   "cell_type": "code",
   "execution_count": 9,
   "metadata": {
    "ExecuteTime": {
     "end_time": "2022-03-17T13:48:53.501963Z",
     "start_time": "2022-03-17T13:48:53.488912Z"
    }
   },
   "outputs": [
    {
     "data": {
      "text/plain": [
       "(560, 40, 41, 41)"
      ]
     },
     "execution_count": 9,
     "metadata": {},
     "output_type": "execute_result"
    }
   ],
   "source": [
    "X_test.shape"
   ]
  },
  {
   "cell_type": "markdown",
   "metadata": {},
   "source": [
    "## Benchmark\n",
    "Train using kNN of pressure fields at two instants in time, with 40 neighbours"
   ]
  },
  {
   "cell_type": "code",
   "execution_count": 10,
   "metadata": {
    "ExecuteTime": {
     "end_time": "2022-03-17T13:48:54.319164Z",
     "start_time": "2022-03-17T13:48:53.697575Z"
    }
   },
   "outputs": [
    {
     "name": "stderr",
     "output_type": "stream",
     "text": [
      "100%|███████████████████████████████████████████████████████████████████████████| 5039/5039 [00:00<00:00, 12474.02it/s]\n"
     ]
    }
   ],
   "source": [
    "nfields = 4 ; time_step_slp = 4 # on prends \"nfileds\" champs de pression parmi les 40\n",
    "n_neighbour = 50;\n",
    "slp_train = []\n",
    "for i in tqdm(range(X_train.shape[0])):\n",
    "    slp_train.append(np.ndarray.flatten(X_train[i,-1]))\n",
    "    for j in range(1,nfields):\n",
    "        slp_train[-1] = np.concatenate( ( slp_train[-1], np.ndarray.flatten(X_train[i,-1-j*time_step_slp]) ) )\n",
    "slp_train = np.array(slp_train)"
   ]
  },
  {
   "cell_type": "code",
   "execution_count": 11,
   "metadata": {
    "ExecuteTime": {
     "end_time": "2022-03-17T13:48:54.535897Z",
     "start_time": "2022-03-17T13:48:54.524490Z"
    }
   },
   "outputs": [
    {
     "data": {
      "text/plain": [
       "(5039, 6724)"
      ]
     },
     "execution_count": 11,
     "metadata": {},
     "output_type": "execute_result"
    }
   ],
   "source": [
    "slp_train.shape"
   ]
  },
  {
   "cell_type": "code",
   "execution_count": 12,
   "metadata": {
    "ExecuteTime": {
     "end_time": "2022-03-17T13:48:54.869871Z",
     "start_time": "2022-03-17T13:48:54.791542Z"
    }
   },
   "outputs": [],
   "source": [
    "slp_test = []\n",
    "slp_all_test = X_test\n",
    "for i in range(X_test.shape[0]):\n",
    "    slp_test.append(np.ndarray.flatten(slp_all_test[i,-1]))\n",
    "    for j in range(1,nfields):\n",
    "        slp_test[-1] = np.concatenate( ( slp_test[-1], np.ndarray.flatten(slp_all_test[i,-1-j*time_step_slp]) ) )\n",
    "slp_test = np.array(slp_test)"
   ]
  },
  {
   "cell_type": "code",
   "execution_count": 34,
   "metadata": {
    "ExecuteTime": {
     "end_time": "2022-03-16T21:47:29.653911Z",
     "start_time": "2022-03-16T21:47:29.642019Z"
    }
   },
   "outputs": [
    {
     "data": {
      "text/plain": [
       "(560, 6724)"
      ]
     },
     "execution_count": 34,
     "metadata": {},
     "output_type": "execute_result"
    }
   ],
   "source": [
    "slp_test.shape"
   ]
  },
  {
   "cell_type": "code",
   "execution_count": 13,
   "metadata": {
    "ExecuteTime": {
     "end_time": "2022-03-17T13:48:55.169477Z",
     "start_time": "2022-03-17T13:48:55.106348Z"
    }
   },
   "outputs": [],
   "source": [
    "slp_test_predict = []\n",
    "for i in range(X_test_predict.shape[0]):\n",
    "    slp_test_predict.append(np.ndarray.flatten(X_test_predict[i,-1]))\n",
    "    for j in range(1,nfields):\n",
    "        slp_test_predict[-1] = np.concatenate( ( slp_test_predict[-1], np.ndarray.flatten(X_test_predict[i,-1-j*time_step_slp]) ) )\n",
    "slp_test_predict = np.array(slp_test_predict)"
   ]
  },
  {
   "cell_type": "code",
   "execution_count": 14,
   "metadata": {
    "ExecuteTime": {
     "end_time": "2022-03-17T13:48:55.433942Z",
     "start_time": "2022-03-17T13:48:55.421853Z"
    }
   },
   "outputs": [
    {
     "data": {
      "text/plain": [
       "(509, 6724)"
      ]
     },
     "execution_count": 14,
     "metadata": {},
     "output_type": "execute_result"
    }
   ],
   "source": [
    "slp_test_predict.shape"
   ]
  },
  {
   "cell_type": "markdown",
   "metadata": {},
   "source": [
    "**Tree for querying the closest n_neighbour**"
   ]
  },
  {
   "cell_type": "code",
   "execution_count": 15,
   "metadata": {
    "ExecuteTime": {
     "end_time": "2022-03-17T13:49:00.317247Z",
     "start_time": "2022-03-17T13:48:56.470509Z"
    }
   },
   "outputs": [],
   "source": [
    "tree = BallTree(slp_train,leaf_size=n_neighbour) "
   ]
  },
  {
   "cell_type": "code",
   "execution_count": 16,
   "metadata": {
    "ExecuteTime": {
     "end_time": "2022-03-17T13:49:00.549664Z",
     "start_time": "2022-03-17T13:49:00.520446Z"
    }
   },
   "outputs": [],
   "source": [
    "def build_and_train_SVR(train_set,test_set,slp_test,j,k):\n",
    "    np.random.seed(j)\n",
    "    result = []\n",
    "    SVRs = []\n",
    "    flatten_slp = np.concatenate([np.reshape((slp_test[i,:,:]),(1,1,41,41))\\\n",
    "                              for i in np.random.choice(40,10,replace = False)],axis=1)\n",
    "    flatten_slp = np.reshape(flatten_slp,(flatten_slp.shape[0],flatten_slp.shape[1]*\\\n",
    "                                            flatten_slp.shape[2]*flatten_slp.shape[3]))\n",
    "    \n",
    "    x_train = np.concatenate([np.reshape((train_set[:,i,:,:,:]),(k,1,41,41))\\\n",
    "                              for i in np.random.choice(40,10,replace = False)],axis=1)\n",
    "    flattened_x_train = np.reshape(x_train,(x_train.shape[0],x_train.shape[1]*\\\n",
    "                                            x_train.shape[2]*x_train.shape[3]))\n",
    "    \n",
    "    \n",
    "    for k in range(test_set.shape[1]):\n",
    "        SVRs.append(SVR(kernel=\"rbf\",gamma=1,epsilon=0.001, C=0.1, cache_size=1000))\n",
    "        SVRs[k].fit(flattened_x_train, test_set[:,k]) \n",
    "    for l in range(test_set.shape[1]):\n",
    "        result.append(SVRs[l].predict(flatten_slp))\n",
    "    return result"
   ]
  },
  {
   "cell_type": "markdown",
   "metadata": {},
   "source": [
    "**Finding best hyperparameters using grisearchcv**"
   ]
  },
  {
   "cell_type": "markdown",
   "metadata": {
    "ExecuteTime": {
     "end_time": "2022-03-16T15:53:39.452024Z",
     "start_time": "2022-03-16T15:53:39.438022Z"
    },
    "run_control": {
     "marked": true
    }
   },
   "source": [
    "def build_and_train_gridsearch(train_set,test_set,slp_test):\n",
    "    np.random.seed(j)\n",
    "    result = []\n",
    "    SVRs = []\n",
    "    flatten_slp = np.concatenate([np.reshape((slp_test[i,:,:]),(1,1,41,41))\\\n",
    "                              for i in np.random.choice(40,15,replace = False)],axis=1)\n",
    "    flatten_slp = np.reshape(flatten_slp,(flatten_slp.shape[0],flatten_slp.shape[1]*\\\n",
    "                                            flatten_slp.shape[2]*flatten_slp.shape[3]))\n",
    "    \n",
    "    x_train = np.concatenate([np.reshape((train_set[:,i,:,:,:]),(k,1,41,41))\\\n",
    "                              for i in np.random.choice(40,15,replace = False)],axis=1)\n",
    "    flattened_x_train = np.reshape(x_train,(x_train.shape[0],x_train.shape[1]*\\\n",
    "                                            x_train.shape[2]*x_train.shape[3]))\n",
    "    param_grid = {'C': [0.1, 1, 10, 100, 1000],\n",
    "              'gamma': [1, 0.1, 0.01, 0.001, 0.0001],\n",
    "              'kernel': ['rbf'],\n",
    "              'epsilon': [0.001]}\n",
    "    grid = GridSearchCV(SVR(), param_grid, refit = True, verbose = 1)\n",
    "    grid.fit(flattened_x_train, test_set[:,0])\n",
    "    return grid"
   ]
  },
  {
   "cell_type": "markdown",
   "metadata": {
    "ExecuteTime": {
     "end_time": "2022-03-16T13:14:04.932558Z",
     "start_time": "2022-03-16T13:14:04.932558Z"
    }
   },
   "source": [
    "dist, ind = tree.query([slp_test[0]], k=n_neighbour)\n",
    "train_set = np.concatenate([np.reshape(slp_all[i],(1,40,41,41,1)) for i in ind[0]],axis =0)\n",
    "test_set = np.concatenate([np.reshape(surge_train[i],(1,20)) for i in ind[0]],axis =0)\n",
    "grid = build_and_train_gridsearch(train_set,test_set,slp_all[0])"
   ]
  },
  {
   "cell_type": "markdown",
   "metadata": {
    "ExecuteTime": {
     "end_time": "2022-03-16T15:53:42.191446Z",
     "start_time": "2022-03-16T15:53:39.454129Z"
    },
    "run_control": {
     "marked": true
    }
   },
   "source": [
    "grid.best_params_ # BEST PARAMETERS"
   ]
  },
  {
   "cell_type": "code",
   "execution_count": 40,
   "metadata": {
    "ExecuteTime": {
     "end_time": "2022-03-16T21:47:35.783322Z",
     "start_time": "2022-03-16T21:47:35.770325Z"
    }
   },
   "outputs": [
    {
     "data": {
      "text/plain": [
       "(5039, 20)"
      ]
     },
     "execution_count": 40,
     "metadata": {},
     "output_type": "execute_result"
    }
   ],
   "source": [
    "y_train.shape"
   ]
  },
  {
   "cell_type": "markdown",
   "metadata": {},
   "source": [
    "**Build a CNN**"
   ]
  },
  {
   "cell_type": "code",
   "execution_count": 17,
   "metadata": {
    "ExecuteTime": {
     "end_time": "2022-03-17T13:50:20.370305Z",
     "start_time": "2022-03-17T13:50:20.339177Z"
    }
   },
   "outputs": [
    {
     "ename": "SyntaxError",
     "evalue": "invalid syntax (Temp/ipykernel_12608/581480221.py, line 17)",
     "output_type": "error",
     "traceback": [
      "\u001b[1;36m  File \u001b[1;32m\"C:\\Users\\nanto\\AppData\\Local\\Temp/ipykernel_12608/581480221.py\"\u001b[1;36m, line \u001b[1;32m17\u001b[0m\n\u001b[1;33m    ]) return cnn_model\u001b[0m\n\u001b[1;37m       ^\u001b[0m\n\u001b[1;31mSyntaxError\u001b[0m\u001b[1;31m:\u001b[0m invalid syntax\n"
     ]
    }
   ],
   "source": [
    "def build_cnn_model(): \n",
    "    cnn_model = tf.keras.Sequential([\n",
    "\n",
    "    # First convolutional layer\n",
    "    tf.keras.layers.Conv2D(filters=32,kernel_size=3,activation=\"relu\"), \n",
    "\n",
    "    # First max pooling layer\n",
    "    tf.keras.layers.MaxPool2D(),\n",
    "\n",
    "\n",
    "    tf.keras.layers.Flatten(),\n",
    "    tf.keras.layers.Dense(80, activation='tanh'),\n",
    "    tf.keras.layers.Dense(80, activation='tanh'),\n",
    "\n",
    "    # output\n",
    "    tf.keras.layers.Dense(20,activation = None)\n",
    "\n",
    "])\n",
    "    return cnn_model\n"
   ]
  },
  {
   "cell_type": "markdown",
   "metadata": {},
   "source": [
    "**Running all SVR**"
   ]
  },
  {
   "cell_type": "code",
   "execution_count": 42,
   "metadata": {
    "ExecuteTime": {
     "end_time": "2022-03-16T22:44:37.828051Z",
     "start_time": "2022-03-16T21:47:53.929678Z"
    }
   },
   "outputs": [
    {
     "name": "stdout",
     "output_type": "stream",
     "text": [
      "k :  40\n"
     ]
    },
    {
     "name": "stderr",
     "output_type": "stream",
     "text": [
      "100%|████████████████████████████████████████████████████████████████████████████████| 560/560 [05:46<00:00,  1.62it/s]\n"
     ]
    },
    {
     "name": "stdout",
     "output_type": "stream",
     "text": [
      "k :  45\n"
     ]
    },
    {
     "name": "stderr",
     "output_type": "stream",
     "text": [
      "100%|████████████████████████████████████████████████████████████████████████████████| 560/560 [05:02<00:00,  1.85it/s]\n"
     ]
    },
    {
     "name": "stdout",
     "output_type": "stream",
     "text": [
      "k :  50\n"
     ]
    },
    {
     "name": "stderr",
     "output_type": "stream",
     "text": [
      "100%|████████████████████████████████████████████████████████████████████████████████| 560/560 [04:06<00:00,  2.27it/s]\n"
     ]
    },
    {
     "name": "stdout",
     "output_type": "stream",
     "text": [
      "k :  55\n"
     ]
    },
    {
     "name": "stderr",
     "output_type": "stream",
     "text": [
      "100%|████████████████████████████████████████████████████████████████████████████████| 560/560 [05:02<00:00,  1.85it/s]\n"
     ]
    },
    {
     "name": "stdout",
     "output_type": "stream",
     "text": [
      "k :  60\n"
     ]
    },
    {
     "name": "stderr",
     "output_type": "stream",
     "text": [
      "100%|████████████████████████████████████████████████████████████████████████████████| 560/560 [05:44<00:00,  1.63it/s]\n"
     ]
    },
    {
     "name": "stdout",
     "output_type": "stream",
     "text": [
      "k :  65\n"
     ]
    },
    {
     "name": "stderr",
     "output_type": "stream",
     "text": [
      "100%|████████████████████████████████████████████████████████████████████████████████| 560/560 [06:20<00:00,  1.47it/s]\n"
     ]
    },
    {
     "name": "stdout",
     "output_type": "stream",
     "text": [
      "k :  70\n"
     ]
    },
    {
     "name": "stderr",
     "output_type": "stream",
     "text": [
      "100%|████████████████████████████████████████████████████████████████████████████████| 560/560 [07:14<00:00,  1.29it/s]\n"
     ]
    },
    {
     "name": "stdout",
     "output_type": "stream",
     "text": [
      "k :  75\n"
     ]
    },
    {
     "name": "stderr",
     "output_type": "stream",
     "text": [
      "100%|████████████████████████████████████████████████████████████████████████████████| 560/560 [08:01<00:00,  1.16it/s]\n"
     ]
    },
    {
     "name": "stdout",
     "output_type": "stream",
     "text": [
      "k :  80\n"
     ]
    },
    {
     "name": "stderr",
     "output_type": "stream",
     "text": [
      "100%|████████████████████████████████████████████████████████████████████████████████| 560/560 [09:00<00:00,  1.04it/s]\n"
     ]
    }
   ],
   "source": [
    "surge_test_benchmark = []; k = n_neighbour\n",
    "neighbour_list = [40,45,50, 55, 60,65,70,75,80]\n",
    "MSE = []\n",
    "for k in neighbour_list:\n",
    "    result = []\n",
    "    print(\"k : \",k)\n",
    "    tree = BallTree(slp_train,leaf_size=n_neighbour) \n",
    "    for i in tqdm(range(X_test.shape[0])):\n",
    "        dist, ind = tree.query([slp_test[i]], k=k) #on cherche les 40 plus proches voisins\n",
    "        #surge_test_benchmark.append(np.mean(surge_train[ind[0]], axis=0)) #on fait la moyenne (par colonne ou axe 0) des 40 valeurs de surges         \n",
    "        #print(ind[0]) # c'est la liste des indices des 40 voisins\n",
    "        train_set = np.concatenate([np.reshape(X_train[i],(1,40,41,41,1)) for i in ind[0]],axis =0)\n",
    "        test_set = np.concatenate([np.reshape(y_train[i],(1,20)) for i in ind[0]],axis =0)\n",
    "        result.append(build_and_train_SVR(train_set,test_set,X_train[i],i,k))\n",
    "    validation_result = np.array(result)\n",
    "    validation_result = np.reshape(validation_result,(validation_result.shape[0],validation_result.shape[1]))\n",
    "    MSE.append(mean_squared_error(validation_result,y_test))"
   ]
  },
  {
   "cell_type": "code",
   "execution_count": 43,
   "metadata": {
    "ExecuteTime": {
     "end_time": "2022-03-16T22:53:43.954636Z",
     "start_time": "2022-03-16T22:53:43.343346Z"
    }
   },
   "outputs": [
    {
     "data": {
      "text/plain": [
       "[<matplotlib.lines.Line2D at 0x2812eb028e0>]"
      ]
     },
     "execution_count": 43,
     "metadata": {},
     "output_type": "execute_result"
    },
    {
     "data": {
      "image/png": "[encoded data removed]",
      "text/plain": [
       "<Figure size 460.8x403.2 with 1 Axes>"
      ]
     },
     "metadata": {},
     "output_type": "display_data"
    }
   ],
   "source": [
    "plt.plot(neighbour_list,MSE)"
   ]
  },
  {
   "cell_type": "code",
   "execution_count": null,
   "metadata": {
    "ExecuteTime": {
     "end_time": "2022-03-16T21:47:43.647453Z",
     "start_time": "2022-03-16T21:47:43.647453Z"
    }
   },
   "outputs": [],
   "source": [
    "validation_result = np.array(result)\n",
    "validation_result = np.reshape(validation_result,(validation_result.shape[0],validation_result.shape[1]))"
   ]
  },
  {
   "cell_type": "code",
   "execution_count": 22,
   "metadata": {
    "ExecuteTime": {
     "end_time": "2022-03-16T16:16:59.809345Z",
     "start_time": "2022-03-16T16:16:59.779795Z"
    }
   },
   "outputs": [
    {
     "name": "stdout",
     "output_type": "stream",
     "text": [
      "0.7728351633182264\n"
     ]
    }
   ],
   "source": [
    "MSE = mean_squared_error(validation_result,y_test)\n",
    "print(MSE)"
   ]
  },
  {
   "cell_type": "code",
   "execution_count": 46,
   "metadata": {
    "ExecuteTime": {
     "end_time": "2022-03-16T23:03:50.396114Z",
     "start_time": "2022-03-16T22:55:25.908909Z"
    }
   },
   "outputs": [
    {
     "name": "stderr",
     "output_type": "stream",
     "text": [
      "100%|████████████████████████████████████████████████████████████████████████████████| 509/509 [08:24<00:00,  1.01it/s]"
     ]
    },
    {
     "name": "stdout",
     "output_type": "stream",
     "text": [
      "509\n"
     ]
    },
    {
     "name": "stderr",
     "output_type": "stream",
     "text": [
      "\n"
     ]
    }
   ],
   "source": [
    "result = []\n",
    "for i in tqdm(range(X_test_predict.shape[0])):\n",
    "    dist, ind = tree.query([slp_test_predict[i]], k=k) #on cherche les 40 plus proches voisins\n",
    "    #surge_test_benchmark.append(np.mean(surge_train[ind[0]], axis=0)) #on fait la moyenne (par colonne ou axe 0) des 40 valeurs de surges         \n",
    "    #print(ind[0]) # c'est la liste des indices des 40 voisins\n",
    "    train_set = np.concatenate([np.reshape(X_train[i],(1,40,41,41,1)) for i in ind[0]],axis =0)\n",
    "    test_set = np.concatenate([np.reshape(y_train[i],(1,20)) for i in ind[0]],axis =0)\n",
    "    result.append(build_and_train_SVR(train_set,test_set,X_train[i],i,k))\n",
    "\n",
    "    \n",
    "print(len(result))"
   ]
  },
  {
   "cell_type": "code",
   "execution_count": 47,
   "metadata": {
    "ExecuteTime": {
     "end_time": "2022-03-16T23:07:05.325761Z",
     "start_time": "2022-03-16T23:07:05.310136Z"
    },
    "run_control": {
     "marked": true
    }
   },
   "outputs": [
    {
     "name": "stdout",
     "output_type": "stream",
     "text": [
      "20\n"
     ]
    }
   ],
   "source": [
    "print(len(result[0]))"
   ]
  },
  {
   "cell_type": "code",
   "execution_count": 49,
   "metadata": {
    "ExecuteTime": {
     "end_time": "2022-03-16T23:07:08.995707Z",
     "start_time": "2022-03-16T23:07:08.981201Z"
    }
   },
   "outputs": [],
   "source": [
    "surge_test_benchmark = np.array(result)"
   ]
  },
  {
   "cell_type": "code",
   "execution_count": 50,
   "metadata": {
    "ExecuteTime": {
     "end_time": "2022-03-16T23:07:11.679837Z",
     "start_time": "2022-03-16T23:07:11.648116Z"
    }
   },
   "outputs": [
    {
     "data": {
      "text/plain": [
       "(509, 20, 1)"
      ]
     },
     "execution_count": 50,
     "metadata": {},
     "output_type": "execute_result"
    }
   ],
   "source": [
    "surge_test_benchmark.shape"
   ]
  },
  {
   "cell_type": "code",
   "execution_count": 51,
   "metadata": {
    "ExecuteTime": {
     "end_time": "2022-03-16T23:07:14.675994Z",
     "start_time": "2022-03-16T23:07:14.660372Z"
    }
   },
   "outputs": [],
   "source": [
    "surge_test_benchmark = np.reshape(surge_test_benchmark,(509,20))"
   ]
  },
  {
   "cell_type": "code",
   "execution_count": 52,
   "metadata": {
    "ExecuteTime": {
     "end_time": "2022-03-16T23:07:16.402125Z",
     "start_time": "2022-03-16T23:07:16.386472Z"
    }
   },
   "outputs": [
    {
     "data": {
      "text/plain": [
       "1.7784640786586585"
      ]
     },
     "execution_count": 52,
     "metadata": {},
     "output_type": "execute_result"
    }
   ],
   "source": [
    "np.amax(surge_test_benchmark)"
   ]
  },
  {
   "cell_type": "code",
   "execution_count": 53,
   "metadata": {
    "ExecuteTime": {
     "end_time": "2022-03-16T23:07:18.566937Z",
     "start_time": "2022-03-16T23:07:18.441511Z"
    }
   },
   "outputs": [],
   "source": [
    "indexes = np.load('X_test_surge_new.npz')\n",
    "y_columns = [f'surge1_t{i}' for i in range(10)] + [f'surge2_t{i}' for i in range(10)]\n",
    "y_test_benchmark = pd.DataFrame(data=surge_test_benchmark, columns=y_columns, index=indexes['id_sequence'])\n",
    "y_test_benchmark.to_csv('surge_predicted_final2.csv', index_label='id_sequence', sep=',')"
   ]
  }
 ],
 "metadata": {
  "kernelspec": {
   "display_name": "Python 3 (ipykernel)",
   "language": "python",
   "name": "python3"
  },
  "language_info": {
   "codemirror_mode": {
    "name": "ipython",
    "version": 3
   },
   "file_extension": ".py",
   "mimetype": "text/x-python",
   "name": "python",
   "nbconvert_exporter": "python",
   "pygments_lexer": "ipython3",
   "version": "3.9.7"
  },
  "latex_envs": {
   "LaTeX_envs_menu_present": true,
   "autoclose": true,
   "autocomplete": true,
   "bibliofile": "biblio.bib",
   "cite_by": "apalike",
   "current_citInitial": 1,
   "eqLabelWithNumbers": true,
   "eqNumInitial": 1,
   "hotkeys": {
    "equation": "Ctrl-E",
    "itemize": "Ctrl-I"
   },
   "labels_anchors": false,
   "latex_user_defs": false,
   "report_style_numbering": false,
   "user_envs_cfg": false
  },
  "toc": {
   "base_numbering": 1,
   "nav_menu": {},
   "number_sections": true,
   "sideBar": true,
   "skip_h1_title": false,
   "title_cell": "Table of Contents",
   "title_sidebar": "Contents",
   "toc_cell": false,
   "toc_position": {},
   "toc_section_display": true,
   "toc_window_display": true
  },
  "varInspector": {
   "cols": {
    "lenName": 16,
    "lenType": 16,
    "lenVar": 40
   },
   "kernels_config": {
    "python": {
     "delete_cmd_postfix": "",
     "delete_cmd_prefix": "del ",
     "library": "var_list.py",
     "varRefreshCmd": "print(var_dic_list())"
    },
    "r": {
     "delete_cmd_postfix": ") ",
     "delete_cmd_prefix": "rm(",
     "library": "var_list.r",
     "varRefreshCmd": "cat(var_dic_list()) "
    }
   },
   "types_to_exclude": [
    "module",
    "function",
    "builtin_function_or_method",
    "instance",
    "_Feature"
   ],
   "window_display": false
  }
 },
 "nbformat": 4,
 "nbformat_minor": 2
}
