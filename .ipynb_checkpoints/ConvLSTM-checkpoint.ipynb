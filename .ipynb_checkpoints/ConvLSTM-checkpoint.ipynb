{
 "cells": [
  {
   "cell_type": "code",
   "execution_count": 1,
   "id": "5b41c082",
   "metadata": {
    "ExecuteTime": {
     "end_time": "2022-03-22T09:10:08.001283Z",
     "start_time": "2022-03-22T09:09:55.788043Z"
    }
   },
   "outputs": [],
   "source": [
    "import numpy as np\n",
    "import tensorflow as tf\n",
    "import IPython\n",
    "import time\n",
    "import matplotlib.pyplot as plt\n",
    "import functools\n",
    "import pandas as pd\n",
    "import seaborn as sns\n",
    "from tqdm import tqdm\n",
    "from sklearn.metrics import mean_squared_error\n",
    "from jupyterthemes import jtplot\n",
    "import mitdeeplearning as mdl\n",
    "jtplot.style()"
   ]
  },
  {
   "cell_type": "code",
   "execution_count": 2,
   "id": "366c56d7",
   "metadata": {
    "ExecuteTime": {
     "end_time": "2022-03-22T09:10:12.265294Z",
     "start_time": "2022-03-22T09:10:08.005278Z"
    }
   },
   "outputs": [
    {
     "name": "stdout",
     "output_type": "stream",
     "text": [
      "[PhysicalDevice(name='/physical_device:GPU:0', device_type='GPU')]\n"
     ]
    }
   ],
   "source": [
    "physical_devices = tf.config.list_physical_devices(\"GPU\")\n",
    "print(physical_devices)"
   ]
  },
  {
   "cell_type": "code",
   "execution_count": 3,
   "id": "431a8c39",
   "metadata": {
    "ExecuteTime": {
     "end_time": "2022-03-22T09:10:22.828345Z",
     "start_time": "2022-03-22T09:10:12.268809Z"
    }
   },
   "outputs": [],
   "source": [
    "Y_train = pd.read_csv('Y_train_surge.csv')\n",
    "Y_train = Y_train.to_numpy()\n",
    "surge_input = Y_train[:,1:21].astype(np.float32)\n",
    "\n",
    "data = np.load(\"X_train_surge_new.npz\")\n",
    "slp = data[\"slp\"].astype(np.float32) #the 40 sea-level pressure (SLP) fields, encoded in images of size (41, 41)."
   ]
  },
  {
   "cell_type": "code",
   "execution_count": 4,
   "id": "866cf173",
   "metadata": {
    "ExecuteTime": {
     "end_time": "2022-03-22T09:10:23.894929Z",
     "start_time": "2022-03-22T09:10:22.831425Z"
    }
   },
   "outputs": [],
   "source": [
    "data_test = np.load(\"X_test_surge_new.npz\")\n",
    "slp_test =  data_test[\"slp\"].astype(np.float32)"
   ]
  },
  {
   "cell_type": "code",
   "execution_count": 5,
   "id": "1951b6aa",
   "metadata": {
    "ExecuteTime": {
     "end_time": "2022-03-22T09:10:28.410509Z",
     "start_time": "2022-03-22T09:10:23.898339Z"
    }
   },
   "outputs": [],
   "source": [
    "### SLP ###\n",
    "shape = slp.shape\n",
    "mean_slp = np.mean(slp)\n",
    "std_slp = np.std(slp)\n",
    "slp = np.reshape((slp-mean_slp)/std_slp,(shape[0],shape[1],shape[2],shape[3],1))\n",
    "shape = slp_test.shape\n",
    "slp_test = np.reshape((slp_test-mean_slp)/std_slp,(shape[0],shape[1],shape[2],shape[3],1))\n",
    "\n",
    "#### SURGE #####\n",
    "mean_surge = np.mean(surge_input)\n",
    "std_surge = np.std(surge_input)\n",
    "surge_input = (surge_input-mean_surge)/std_surge"
   ]
  },
  {
   "cell_type": "code",
   "execution_count": 6,
   "id": "5224fe20",
   "metadata": {
    "ExecuteTime": {
     "end_time": "2022-03-22T09:10:29.276430Z",
     "start_time": "2022-03-22T09:10:28.413184Z"
    }
   },
   "outputs": [
    {
     "name": "stdout",
     "output_type": "stream",
     "text": [
      "(5039, 40, 41, 41, 1)\n",
      "(5039, 20)\n"
     ]
    }
   ],
   "source": [
    "#np.random.seed(0)\n",
    "## indexes for train and test set\n",
    "train_set_idx = np.random.choice(slp.shape[0],int(slp.shape[0]*0.9),replace = False)\n",
    "test_set_idx = np.delete(np.arange(slp.shape[0]),train_set_idx)\n",
    "\n",
    "## TRAIN SET\n",
    "train_slp = slp[train_set_idx]\n",
    "train_surge = surge_input[train_set_idx]\n",
    "### TEST SET\n",
    "test_slp = slp[test_set_idx]\n",
    "test_surge = surge_input[test_set_idx]\n",
    "\n",
    "\n",
    "print(train_slp.shape)\n",
    "print(train_surge.shape)"
   ]
  },
  {
   "cell_type": "code",
   "execution_count": 7,
   "id": "c4fc9d3f",
   "metadata": {
    "ExecuteTime": {
     "end_time": "2022-03-22T09:10:29.292968Z",
     "start_time": "2022-03-22T09:10:29.280805Z"
    }
   },
   "outputs": [],
   "source": [
    "def custom_loss_function(y, y_recon,weight=[1,0.9,0.8,0.7,0.6,0.5,0.4,0.3,0.2,0.1]):\n",
    "    weight = tf.convert_to_tensor(weight, dtype=tf.float32)\n",
    "    substract = tf.math.square(y-y_recon)\n",
    "    loss = tf.reduce_mean(tf.math.multiply(weight,substract))\n",
    "    return loss"
   ]
  },
  {
   "cell_type": "code",
   "execution_count": 19,
   "id": "319f3a59",
   "metadata": {
    "ExecuteTime": {
     "end_time": "2022-03-22T09:22:54.384385Z",
     "start_time": "2022-03-22T09:22:54.368713Z"
    }
   },
   "outputs": [],
   "source": [
    "n_filters = 12 # base number of convolutional filters, same as standard CNN\n",
    "\n",
    "def make_standard_cnn(n_outputs=10):\n",
    "  ConvLSTM2D = functools.partial(tf.keras.layers.Conv3D, activation='relu')\n",
    "  BatchNormalization = tf.keras.layers.BatchNormalization\n",
    "  Maxpool = tf.keras.layers.MaxPool3D\n",
    "  Flatten = tf.keras.layers.Flatten\n",
    "  Dense = functools.partial(tf.keras.layers.Dense, activation='tanh')\n",
    "\n",
    "  model = tf.keras.Sequential([\n",
    "    Conv3D(filters=int(1*n_filters), kernel_size=(4,3,3),strides=(4,1,1)),\n",
    "    #Maxpool,\n",
    "    \n",
    "    Conv3D(filters=int(2*n_filters), kernel_size=3,  strides=(1,1,1)),\n",
    "    Maxpool(),\n",
    "    \n",
    "    \n",
    "    Flatten(),\n",
    "    Dense(80),\n",
    "    tf.keras.layers.Dropout(rate=0.25),\n",
    "    Dense(100),\n",
    "    tf.keras.layers.Dropout(rate=0.5),\n",
    "    Dense(n_outputs, activation=None), \n",
    "  ])\n",
    "  return model\n"
   ]
  },
  {
   "cell_type": "code",
   "execution_count": 20,
   "id": "fe7ad0cb",
   "metadata": {
    "ExecuteTime": {
     "end_time": "2022-03-22T09:22:55.530147Z",
     "start_time": "2022-03-22T09:22:54.959721Z"
    }
   },
   "outputs": [
    {
     "name": "stdout",
     "output_type": "stream",
     "text": [
      "Model: \"sequential_6\"\n",
      "_________________________________________________________________\n",
      " Layer (type)                Output Shape              Param #   \n",
      "=================================================================\n",
      " conv3d_24 (Conv3D)          (5039, 10, 39, 39, 12)    444       \n",
      "                                                                 \n",
      " conv3d_25 (Conv3D)          (5039, 8, 37, 37, 24)     7800      \n",
      "                                                                 \n",
      " max_pooling3d_17 (MaxPoolin  (5039, 4, 18, 18, 24)    0         \n",
      " g3D)                                                            \n",
      "                                                                 \n",
      " conv3d_26 (Conv3D)          (5039, 2, 16, 16, 36)     23364     \n",
      "                                                                 \n",
      " max_pooling3d_18 (MaxPoolin  (5039, 2, 8, 8, 36)      0         \n",
      " g3D)                                                            \n",
      "                                                                 \n",
      " batch_normalization_12 (Bat  (5039, 2, 8, 8, 36)      144       \n",
      " chNormalization)                                                \n",
      "                                                                 \n",
      " conv3d_27 (Conv3D)          (5039, 1, 7, 7, 60)       17340     \n",
      "                                                                 \n",
      " batch_normalization_13 (Bat  (5039, 1, 7, 7, 60)      240       \n",
      " chNormalization)                                                \n",
      "                                                                 \n",
      " flatten_6 (Flatten)         (5039, 2940)              0         \n",
      "                                                                 \n",
      " dense_18 (Dense)            (5039, 80)                235280    \n",
      "                                                                 \n",
      " dropout_12 (Dropout)        (5039, 80)                0         \n",
      "                                                                 \n",
      " dense_19 (Dense)            (5039, 100)               8100      \n",
      "                                                                 \n",
      " dropout_13 (Dropout)        (5039, 100)               0         \n",
      "                                                                 \n",
      " dense_20 (Dense)            (5039, 10)                1010      \n",
      "                                                                 \n",
      "=================================================================\n",
      "Total params: 293,722\n",
      "Trainable params: 293,530\n",
      "Non-trainable params: 192\n",
      "_________________________________________________________________\n"
     ]
    }
   ],
   "source": [
    "model = make_standard_cnn()\n",
    "model.build(input_shape = train_slp.shape)\n",
    "model.compile(optimizer = tf.keras.optimizers.SGD(learning_rate=1e-2), \n",
    "              loss='MeanSquaredError',\n",
    "              metrics=['RootMeanSquaredError'\n",
    "                      ])\n",
    "model.summary()"
   ]
  },
  {
   "cell_type": "code",
   "execution_count": 10,
   "id": "cba8cd51",
   "metadata": {
    "ExecuteTime": {
     "end_time": "2022-03-22T09:10:32.752645Z",
     "start_time": "2022-03-22T09:10:32.741527Z"
    }
   },
   "outputs": [],
   "source": [
    "class custom_CNN(tf.keras.Model):\n",
    "    def __init__(self, n_output=10):\n",
    "        super(custom_CNN, self).__init__()\n",
    "        self.n_output= n_output\n",
    "        self.weight = [1,0.9,0.8,0.7,0.6,0.5,0.4,0.3,0.2,0.1]\n",
    "        self.cnn = make_standard_cnn()\n",
    "\n",
    "  # The call function will be used to pass inputs x through the core CNN\n",
    "    def call(self, x): \n",
    "        reconstruction = self.cnn(x)\n",
    "        return reconstruction\n",
    "\n",
    "  # Predict face or not face logit for given input x\n",
    "    def evaluate(self, x_eval,y_eval):\n",
    "        y_pred = self.cnn(x_eval)\n",
    "        weighted_mse = custom_loss_function(y_pred, y_eval,self.weight)\n",
    "        print(f'Evaluation Loss : {weighted_mse}')\n",
    "        return weighted_mse"
   ]
  },
  {
   "cell_type": "markdown",
   "id": "572e9e17",
   "metadata": {
    "ExecuteTime": {
     "end_time": "2022-03-20T17:15:34.353721Z",
     "start_time": "2022-03-20T17:15:34.322387Z"
    }
   },
   "source": [
    "# To define the training operation, we will use tf.function which is a powerful tool \n",
    "#   that lets us turn a Python function into a TensorFlow computation graph.\n",
    "def train_step(x, y,cnn,optimizer):\n",
    "    with tf.GradientTape() as tape:\n",
    "        y_recon = cnn(x)\n",
    "        loss = custom_loss_function(y, y_recon)\n",
    "    grads = tape.gradient(loss, cnn.trainable_variables)\n",
    "\n",
    "    optimizer.apply_gradients(zip(grads, cnn.trainable_variables))\n",
    "    return loss,y_recon"
   ]
  },
  {
   "cell_type": "code",
   "execution_count": 42,
   "id": "2f9e17aa",
   "metadata": {
    "ExecuteTime": {
     "end_time": "2022-03-22T10:24:58.541744Z",
     "start_time": "2022-03-22T10:24:58.518366Z"
    },
    "run_control": {
     "marked": true
    }
   },
   "outputs": [],
   "source": [
    "def decayed_learning_rate(step,initial_learning_rate,decay_steps=13,alpha=0.0):\n",
    "    step = min(step, decay_steps)\n",
    "    cosine_decay = 0.5 * (1 + tf.math.cos(np.pi * step / decay_steps))\n",
    "    decayed = (1 - alpha) * cosine_decay + alpha\n",
    "    return initial_learning_rate * decayed"
   ]
  },
  {
   "cell_type": "code",
   "execution_count": null,
   "id": "8ba53093",
   "metadata": {
    "ExecuteTime": {
     "start_time": "2022-03-22T10:40:07.701Z"
    },
    "scrolled": true
   },
   "outputs": [
    {
     "name": "stdout",
     "output_type": "stream",
     "text": [
      "Starting epoch 14/25 and loss1 : 0.2982085049152374 and eval_loss1 : 0.4007079303264618             \n"
     ]
    },
    {
     "name": "stderr",
     "output_type": "stream",
     "text": [
      " 76%|████████████████████████████████████████████████████████████▉                   | 239/314 [00:12<00:03, 19.35it/s]"
     ]
    }
   ],
   "source": [
    "# Hyperparameters\n",
    "batch_size = 16\n",
    "learning_rate1 = 0.8e-3\n",
    "num_epochs1 = 25\n",
    "optimizer1 = tf.keras.optimizers.SGD(learning_rate1)\n",
    "\n",
    "#data saving\n",
    "loss_history1 = []\n",
    "eval_loss_hisotry1 = []\n",
    "total_loss1 = 0\n",
    "\n",
    "# To define the training operation, we will use tf.function which is a powerful tool \n",
    "#   that lets us turn a Python function into a TensorFlow computation graph.\n",
    "@tf.function\n",
    "def train_step1(x, y,cnn):\n",
    "    with tf.GradientTape() as tape:\n",
    "        # Feed input x into cnn. Note that this is using the CNN call function!\n",
    "        y_recon = cnn(x)\n",
    "        loss = custom_loss_function(y, y_recon)\n",
    "    grads = tape.gradient(loss, cnn.trainable_variables)\n",
    "    optimizer1.apply_gradients(zip(grads, cnn.trainable_variables))\n",
    "    return loss,y_recon\n",
    "\n",
    "total_eval_loss1 = 0    \n",
    "cnn1 = custom_CNN()\n",
    "if hasattr(tqdm, '_instances'): tqdm._instances.clear() # clear if it exists\n",
    "        # For the first TOWN\n",
    "for i in range(num_epochs1):\n",
    "    #learning rate decay\n",
    "    if num_epochs1 > 13 : \n",
    "        cosine_decay = 0.7 * (1 + tf.math.cos(np.pi * 4 / 13))\n",
    "        learning_rate1 = learning_rate1*cosine_decay\n",
    "        optimizer1 = tf.keras.optimizers.SGD(learning_rate1)\n",
    "\n",
    "    IPython.display.clear_output(wait=True)\n",
    "    print(\"Starting epoch {}/{} and loss1 : {} and eval_loss1 : {} \\\n",
    "            \".format(i+1, num_epochs1,total_loss1,total_eval_loss1))\n",
    "    # get a batch of training data and compute the training step\n",
    "    total_loss1 = 0\n",
    "    total_eval_loss1 = 0\n",
    "    for j in tqdm(range(train_slp.shape[0] // batch_size)):\n",
    "        end_index = min(train_slp.shape[0]-1,j+batch_size)\n",
    "            # load a batch of data\n",
    "        (x, y) = (train_slp[j:end_index],train_surge[j:end_index,:10])\n",
    "        # loss optimization\n",
    "        loss1,y_recon = train_step1(x, y,cnn1)\n",
    "        total_loss1 += loss1 \n",
    "    total_eval_loss1 = cnn1.evaluate(test_slp,test_surge[:,:10])\n",
    "    eval_loss_hisotry1.append(total_eval_loss1)\n",
    "    total_loss1 = total_loss1/(train_slp.shape[0] // batch_size)\n",
    "    loss_history1.append(total_loss1)\n",
    "                     \n",
    "#PLOT\n",
    "plt.subplot(1,2,1)\n",
    "plt.plot(np.linspace(1,num_epochs1,num_epochs1),loss_history1)\n",
    "plt.subplot(1,2,2)\n",
    "plt.plot(np.linspace(1,num_epochs1,num_epochs1),eval_loss_hisotry1)\n"
   ]
  },
  {
   "cell_type": "code",
   "execution_count": null,
   "id": "01bf4467",
   "metadata": {
    "ExecuteTime": {
     "end_time": "2022-03-22T08:42:23.524890Z",
     "start_time": "2022-03-22T08:42:23.524890Z"
    }
   },
   "outputs": [],
   "source": [
    "#Hyperparameters\n",
    "learning_rate2 = 1e-3\n",
    "num_epochs2= 20\n",
    "optimizer2 = tf.keras.optimizers.SGD(learning_rate2)\n",
    "\n",
    "#Saving DAta\n",
    "loss_history2 = []\n",
    "eval_loss_hisotry2 = []\n",
    "total_loss2 = 0\n",
    "\n",
    "@tf.function\n",
    "def train_step2(x, y,cnn):\n",
    "    with tf.GradientTape() as tape:\n",
    "            # Feed input x into cnn. Note that this is using the CNN call function!\n",
    "        y_recon = cnn(x)\n",
    "        loss = custom_loss_function(y, y_recon)\n",
    "    grads = tape.gradient(loss, cnn.trainable_variables)\n",
    "    optimizer2.apply_gradients(zip(grads, cnn.trainable_variables))\n",
    "    return loss,y_recon\n",
    "\n",
    "    \n",
    "# For the SECOND TOWN \n",
    "cnn2 = custom_CNN()\n",
    "total_eval_loss2 = 0\n",
    "if hasattr(tqdm, '_instances'): tqdm._instances.clear() # clear if it exists\n",
    "for i in range(num_epochs2):\n",
    "        IPython.display.clear_output(wait=True)\n",
    "        print(\"Starting epoch {}/{} and loss2 : {} and eval_loss2 : {} \\\n",
    "        \".format(i+1, num_epochs2,total_loss2,total_eval_loss2))\n",
    "        total_loss2 = 0\n",
    "        total_eval_loss2 = 0\n",
    "          # get a batch of training data and compute the training step\n",
    "        for j in tqdm(range(train_slp.shape[0] // batch_size)):\n",
    "            end_index = min(train_slp.shape[0]-1,j+batch_size)\n",
    "            # load a batch of data\n",
    "            (x, y) = (train_slp[j:end_index],train_surge[j:end_index,10:])\n",
    "            # loss optimization\n",
    "            loss2,y_recon = train_step2(x, y,cnn2)\n",
    "            total_loss2 += loss2 \n",
    "                \n",
    "        total_eval_loss2 = cnn2.evaluate(test_slp,test_surge[:,10:])\n",
    "        eval_loss_hisotry2.append(total_eval_loss2)\n",
    "        total_loss2 = total_loss2/(train_slp.shape[0] // batch_size)\n",
    "        loss_history2.append(total_loss2)\n",
    "\n",
    "plt.subplot(1,2,1)\n",
    "plt.plot(np.linspace(1,num_epochs2,num_epochs2),loss_history2)\n",
    "plt.subplot(1,2,2)\n",
    "plt.plot(np.linspace(1,num_epochs2,num_epochs2),eval_loss_hisotry2)"
   ]
  },
  {
   "cell_type": "code",
   "execution_count": 14,
   "id": "85eeb819",
   "metadata": {
    "ExecuteTime": {
     "end_time": "2022-03-21T18:24:56.373840Z",
     "start_time": "2022-03-21T18:24:51.261317Z"
    }
   },
   "outputs": [
    {
     "name": "stdout",
     "output_type": "stream",
     "text": [
      "Evaluation Loss : 0.38376665115356445\n",
      "Evaluation Loss : 0.44432249665260315\n"
     ]
    },
    {
     "data": {
      "text/plain": [
       "<tf.Tensor: shape=(), dtype=float32, numpy=0.4443225>"
      ]
     },
     "execution_count": 14,
     "metadata": {},
     "output_type": "execute_result"
    }
   ],
   "source": [
    "cnn1.evaluate(test_slp,test_surge[:,:10])\n",
    "cnn2.evaluate(test_slp,test_surge[:,10:])"
   ]
  },
  {
   "cell_type": "code",
   "execution_count": 46,
   "id": "e0d5df45",
   "metadata": {
    "ExecuteTime": {
     "end_time": "2022-03-21T17:09:03.957321Z",
     "start_time": "2022-03-21T17:08:57.640712Z"
    }
   },
   "outputs": [
    {
     "name": "stdout",
     "output_type": "stream",
     "text": [
      "(509, 20)\n",
      "-0.71588475 -0.7164803 -0.56464535 -0.56401026\n"
     ]
    }
   ],
   "source": [
    "y_pred1 = cnn1(slp_test).numpy()\n",
    "y_pred2 = cnn2(slp_test).numpy()\n",
    "y_pred = np.concatenate((y_pred1,y_pred2),axis=1)\n",
    "y_pred = (y_pred*std_surge)+mean_surge\n",
    "print(y_pred.shape)\n",
    "print(y_pred[0,0],y_pred1[0,0],y_pred[0,10],y_pred2[0,0])"
   ]
  },
  {
   "cell_type": "code",
   "execution_count": 48,
   "id": "77d14ad7",
   "metadata": {
    "ExecuteTime": {
     "end_time": "2022-03-21T17:09:22.839192Z",
     "start_time": "2022-03-21T17:09:22.493299Z"
    }
   },
   "outputs": [
    {
     "name": "stdout",
     "output_type": "stream",
     "text": [
      "[ 98 424 152   6]\n"
     ]
    },
    {
     "data": {
      "image/png": "[encoded data removed]",
      "text/plain": [
       "<Figure size 1440x576 with 4 Axes>"
      ]
     },
     "metadata": {},
     "output_type": "display_data"
    }
   ],
   "source": [
    "plt.figure(figsize=(20,8))\n",
    "random_inds = np.random.choice(y_pred.shape[0],4)\n",
    "print(random_inds)\n",
    "for i in range(4):\n",
    "    plt.subplot(2,2,i+1)\n",
    "    plt.xticks([])\n",
    "    image_ind = random_inds[i]\n",
    "    plt.plot(y_pred[image_ind,:])\n",
    "    plt.xlabel('Line '+ str(image_ind)+ ' started at ')"
   ]
  },
  {
   "cell_type": "markdown",
   "id": "eeb6b9d1",
   "metadata": {
    "ExecuteTime": {
     "end_time": "2022-03-21T17:09:36.139128Z",
     "start_time": "2022-03-21T17:09:35.997883Z"
    }
   },
   "source": [
    "y_columns = [f'surge1_t{i}' for i in range(10)] + [f'surge2_t{i}' for i in range(10)]\n",
    "y_test_benchmark = pd.DataFrame(data=y_pred, columns=y_columns, index=data_test['id_sequence'])\n",
    "y_test_benchmark.to_csv('surge_predicted_custom_CNN.csv', index_label='id_sequence', sep=',')"
   ]
  },
  {
   "cell_type": "code",
   "execution_count": null,
   "id": "68cd132b",
   "metadata": {},
   "outputs": [],
   "source": []
  }
 ],
 "metadata": {
  "kernelspec": {
   "display_name": "Python 3 (ipykernel)",
   "language": "python",
   "name": "python3"
  },
  "language_info": {
   "codemirror_mode": {
    "name": "ipython",
    "version": 3
   },
   "file_extension": ".py",
   "mimetype": "text/x-python",
   "name": "python",
   "nbconvert_exporter": "python",
   "pygments_lexer": "ipython3",
   "version": "3.9.7"
  },
  "latex_envs": {
   "LaTeX_envs_menu_present": true,
   "autoclose": true,
   "autocomplete": true,
   "bibliofile": "biblio.bib",
   "cite_by": "apalike",
   "current_citInitial": 1,
   "eqLabelWithNumbers": true,
   "eqNumInitial": 1,
   "hotkeys": {
    "equation": "Ctrl-E",
    "itemize": "Ctrl-I"
   },
   "labels_anchors": false,
   "latex_user_defs": false,
   "report_style_numbering": false,
   "user_envs_cfg": false
  },
  "toc": {
   "base_numbering": 1,
   "nav_menu": {},
   "number_sections": true,
   "sideBar": true,
   "skip_h1_title": false,
   "title_cell": "Table of Contents",
   "title_sidebar": "Contents",
   "toc_cell": false,
   "toc_position": {},
   "toc_section_display": true,
   "toc_window_display": false
  },
  "varInspector": {
   "cols": {
    "lenName": 16,
    "lenType": 16,
    "lenVar": 40
   },
   "kernels_config": {
    "python": {
     "delete_cmd_postfix": "",
     "delete_cmd_prefix": "del ",
     "library": "var_list.py",
     "varRefreshCmd": "print(var_dic_list())"
    },
    "r": {
     "delete_cmd_postfix": ") ",
     "delete_cmd_prefix": "rm(",
     "library": "var_list.r",
     "varRefreshCmd": "cat(var_dic_list()) "
    }
   },
   "types_to_exclude": [
    "module",
    "function",
    "builtin_function_or_method",
    "instance",
    "_Feature"
   ],
   "window_display": false
  }
 },
 "nbformat": 4,
 "nbformat_minor": 5
}
